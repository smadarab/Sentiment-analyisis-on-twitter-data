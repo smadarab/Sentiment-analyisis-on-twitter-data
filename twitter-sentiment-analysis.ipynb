{
 "cells": [
  {
   "cell_type": "markdown",
   "metadata": {
    "_uuid": "92b885dd147dac19bd0a33db3cd0da100bd5bc23"
   },
   "source": [
    "# Twitter Sentiment Analysis"
   ]
  },
  {
   "cell_type": "code",
   "execution_count": null,
   "metadata": {
    "_uuid": "70282bce8b42a51e4d44f2c7d85c4ca9567b0fd4"
   },
   "outputs": [],
   "source": []
  },
  {
   "cell_type": "code",
   "execution_count": 31,
   "metadata": {
    "_uuid": "303e72966af732ddef0bd8108a321095314e44af"
   },
   "outputs": [],
   "source": [
    "# DataFrame\n",
    "import pandas as pd\n",
    "\n",
    "# Matplot\n",
    "import matplotlib.pyplot as plt\n",
    "%matplotlib inline\n",
    "\n",
    "# Scikit-learn\n",
    "from sklearn.model_selection import train_test_split\n",
    "from sklearn.preprocessing import LabelEncoder\n",
    "from sklearn.metrics import confusion_matrix, classification_report, accuracy_score\n",
    "from sklearn.manifold import TSNE\n",
    "from sklearn.feature_extraction.text import TfidfVectorizer\n",
    "\n",
    "# Keras\n",
    "from keras.preprocessing.text import Tokenizer\n",
    "from keras.preprocessing.sequence import pad_sequences\n",
    "from keras.models import Sequential\n",
    "from keras.layers import Activation, Dense, Dropout, Embedding, Flatten, Conv1D, MaxPooling1D, LSTM\n",
    "from keras import utils\n",
    "from keras.callbacks import ReduceLROnPlateau, EarlyStopping\n",
    "\n",
    "# nltk\n",
    "import nltk\n",
    "from nltk.corpus import stopwords\n",
    "from  nltk.stem import SnowballStemmer\n",
    "\n",
    "# Word2vec\n",
    "import gensim\n",
    "\n",
    "# Utility\n",
    "import re\n",
    "import numpy as np\n",
    "import os\n",
    "from collections import Counter\n",
    "import logging\n",
    "import time\n",
    "import pickle\n",
    "import itertools\n",
    "\n",
    "# Set log\n",
    "logging.basicConfig(format='%(asctime)s : %(levelname)s : %(message)s', level=logging.INFO)"
   ]
  },
  {
   "cell_type": "code",
   "execution_count": 32,
   "metadata": {
    "_uuid": "35e1a89dead5fd160e4c9a024a21d2e569fc89ff"
   },
   "outputs": [
    {
     "name": "stderr",
     "output_type": "stream",
     "text": [
      "[nltk_data] Downloading package stopwords to\n",
      "[nltk_data]     C:\\Users\\sm185567\\AppData\\Roaming\\nltk_data...\n",
      "[nltk_data]   Package stopwords is already up-to-date!\n"
     ]
    },
    {
     "data": {
      "text/plain": [
       "True"
      ]
     },
     "execution_count": 32,
     "metadata": {},
     "output_type": "execute_result"
    }
   ],
   "source": [
    "nltk.download('stopwords')"
   ]
  },
  {
   "cell_type": "markdown",
   "metadata": {
    "_uuid": "e8b01a07df001e4abcc745900336c4db06e455f3"
   },
   "source": [
    "### Settings"
   ]
  },
  {
   "cell_type": "code",
   "execution_count": 33,
   "metadata": {
    "_uuid": "180f0dd2a95419e4602b5c0229822b0111c826f6"
   },
   "outputs": [],
   "source": [
    "# DATASET\n",
    "DATASET_COLUMNS = [\"Tweets\"]\n",
    "DATASET_ENCODING = \"ISO-8859-1\"\n",
    "TRAIN_SIZE = 0.8\n",
    "\n",
    "# TEXT CLENAING\n",
    "TEXT_CLEANING_RE = \"@\\S+|https?:\\S+|http?:\\S|[^A-Za-z0-9]+\"\n",
    "\n",
    "# WORD2VEC \n",
    "W2V_SIZE = 300\n",
    "W2V_WINDOW = 7\n",
    "W2V_EPOCH = 32\n",
    "W2V_MIN_COUNT = 10\n",
    "\n",
    "# KERAS\n",
    "SEQUENCE_LENGTH = 300\n",
    "EPOCHS = 8\n",
    "BATCH_SIZE = 30\n",
    "\n",
    "# SENTIMENT\n",
    "\n",
    "SENTIMENT_THRESHOLDS = (0.4, 0.7)\n",
    "\n",
    "# EXPORT\n",
    "KERAS_MODEL = \"model.h5\"\n",
    "WORD2VEC_MODEL = \"model.w2v\"\n",
    "TOKENIZER_MODEL = \"tokenizer.pkl\"\n",
    "ENCODER_MODEL = \"encoder.pkl\""
   ]
  },
  {
   "cell_type": "markdown",
   "metadata": {
    "_uuid": "1c3beecc618be68480b3d4f0de08d9d863da1dc1"
   },
   "source": [
    "### Read Dataset"
   ]
  },
  {
   "cell_type": "markdown",
   "metadata": {
    "_uuid": "563b3c44f1092dba0b853747b098e00509098cca"
   },
   "source": [
    "### Dataset details\n",
    "* **target**: the polarity of the tweet (0 = negative, 2 = neutral, 4 = positive)\n",
    "* **ids**: The id of the tweet ( 2087)\n",
    "* **date**: the date of the tweet (Sat May 16 23:58:44 UTC 2009)\n",
    "* **flag**: The query (lyx). If there is no query, then this value is NO_QUERY.\n",
    "* **user**: the user that tweeted (robotickilldozr)\n",
    "* **text**: the text of the tweet (Lyx is cool)"
   ]
  },
  {
   "cell_type": "code",
   "execution_count": 34,
   "metadata": {
    "_uuid": "bba8f91cd70de4f5ea0fb0870ae2029b6e3dcc24"
   },
   "outputs": [],
   "source": [
    "\n",
    "df = pd.read_csv(r'supervised_dataset.csv',low_memory=False)\n"
   ]
  },
  {
   "cell_type": "code",
   "execution_count": 35,
   "metadata": {
    "_uuid": "936d499c00c4f1648bc16ca9d283c3b39be7fb10"
   },
   "outputs": [
    {
     "name": "stdout",
     "output_type": "stream",
     "text": [
      "Dataset size: 78639\n"
     ]
    }
   ],
   "source": [
    "print(\"Dataset size:\", len(df))"
   ]
  },
  {
   "cell_type": "code",
   "execution_count": 36,
   "metadata": {
    "_uuid": "7486ed895b813c5246f97b31b6162b0f65ff763b"
   },
   "outputs": [],
   "source": [
    "df = df[['Tweets','compare']]"
   ]
  },
  {
   "cell_type": "code",
   "execution_count": 37,
   "metadata": {},
   "outputs": [],
   "source": [
    "df = df.rename(columns={'compare': 'target','Tweets':'text'})"
   ]
  },
  {
   "cell_type": "code",
   "execution_count": 38,
   "metadata": {},
   "outputs": [],
   "source": [
    "filtered_df = df[df['target'].isnull()==False]"
   ]
  },
  {
   "cell_type": "code",
   "execution_count": 39,
   "metadata": {},
   "outputs": [
    {
     "data": {
      "text/html": [
       "<div>\n",
       "<style scoped>\n",
       "    .dataframe tbody tr th:only-of-type {\n",
       "        vertical-align: middle;\n",
       "    }\n",
       "\n",
       "    .dataframe tbody tr th {\n",
       "        vertical-align: top;\n",
       "    }\n",
       "\n",
       "    .dataframe thead th {\n",
       "        text-align: right;\n",
       "    }\n",
       "</style>\n",
       "<table border=\"1\" class=\"dataframe\">\n",
       "  <thead>\n",
       "    <tr style=\"text-align: right;\">\n",
       "      <th></th>\n",
       "      <th>text</th>\n",
       "      <th>target</th>\n",
       "    </tr>\n",
       "  </thead>\n",
       "  <tbody>\n",
       "    <tr>\n",
       "      <th>8</th>\n",
       "      <td>#Mirzapur2 fabulous series</td>\n",
       "      <td>Positive</td>\n",
       "    </tr>\n",
       "    <tr>\n",
       "      <th>15</th>\n",
       "      <td>When someone trying to give me spoiler</td>\n",
       "      <td>Neutral</td>\n",
       "    </tr>\n",
       "    <tr>\n",
       "      <th>26</th>\n",
       "      <td>RT @ihansika: I AM LOVING #Mirzapur2  ! It’s f...</td>\n",
       "      <td>Positive</td>\n",
       "    </tr>\n",
       "    <tr>\n",
       "      <th>28</th>\n",
       "      <td>@curiousvelocite @GabbbarSingh Will there be #...</td>\n",
       "      <td>Neutral</td>\n",
       "    </tr>\n",
       "    <tr>\n",
       "      <th>34</th>\n",
       "      <td>RT @y2jbaybay: Whenever someone asks me about ...</td>\n",
       "      <td>Neutral</td>\n",
       "    </tr>\n",
       "    <tr>\n",
       "      <th>...</th>\n",
       "      <td>...</td>\n",
       "      <td>...</td>\n",
       "    </tr>\n",
       "    <tr>\n",
       "      <th>78449</th>\n",
       "      <td>What if Mirzapur 2 again ends with suspense?</td>\n",
       "      <td>Neutral</td>\n",
       "    </tr>\n",
       "    <tr>\n",
       "      <th>78457</th>\n",
       "      <td>October 23rd #Mirzapur2 let's binge watch it t...</td>\n",
       "      <td>Neutral</td>\n",
       "    </tr>\n",
       "    <tr>\n",
       "      <th>78482</th>\n",
       "      <td>16 October 2004 When @TripathiiPankaj came to ...</td>\n",
       "      <td>Neutral</td>\n",
       "    </tr>\n",
       "    <tr>\n",
       "      <th>78501</th>\n",
       "      <td>excited to witness the magic of super talented...</td>\n",
       "      <td>Positive</td>\n",
       "    </tr>\n",
       "    <tr>\n",
       "      <th>78521</th>\n",
       "      <td>#Mirzapur2 : #Mirzapur star @divyenndu says he...</td>\n",
       "      <td>Negative</td>\n",
       "    </tr>\n",
       "  </tbody>\n",
       "</table>\n",
       "<p>4121 rows × 2 columns</p>\n",
       "</div>"
      ],
      "text/plain": [
       "                                                    text    target\n",
       "8                            #Mirzapur2 fabulous series   Positive\n",
       "15               When someone trying to give me spoiler    Neutral\n",
       "26     RT @ihansika: I AM LOVING #Mirzapur2  ! It’s f...  Positive\n",
       "28     @curiousvelocite @GabbbarSingh Will there be #...   Neutral\n",
       "34     RT @y2jbaybay: Whenever someone asks me about ...   Neutral\n",
       "...                                                  ...       ...\n",
       "78449      What if Mirzapur 2 again ends with suspense?    Neutral\n",
       "78457  October 23rd #Mirzapur2 let's binge watch it t...   Neutral\n",
       "78482  16 October 2004 When @TripathiiPankaj came to ...   Neutral\n",
       "78501  excited to witness the magic of super talented...  Positive\n",
       "78521  #Mirzapur2 : #Mirzapur star @divyenndu says he...  Negative\n",
       "\n",
       "[4121 rows x 2 columns]"
      ]
     },
     "execution_count": 39,
     "metadata": {},
     "output_type": "execute_result"
    }
   ],
   "source": [
    "filtered_df"
   ]
  },
  {
   "cell_type": "markdown",
   "metadata": {
    "_uuid": "3f9a7bb129e184967b13261fb5d253af451c75c5"
   },
   "source": [
    "### Map target label to String\n",
    "* **0** -> **NEGATIVE**\n",
    "* **2** -> **NEUTRAL**\n",
    "* **4** -> **POSITIVE**"
   ]
  },
  {
   "cell_type": "code",
   "execution_count": null,
   "metadata": {
    "_uuid": "14074b59106cb9550440839e48b832223fc9502f"
   },
   "outputs": [],
   "source": []
  },
  {
   "cell_type": "markdown",
   "metadata": {
    "_uuid": "4449d473187f647a195a6ac6986b009da32a7f4b"
   },
   "source": [
    "%%time\n",
    "df.target = df.target.apply(lambda x: decode_sentiment(x))"
   ]
  },
  {
   "cell_type": "code",
   "execution_count": 102,
   "metadata": {},
   "outputs": [
    {
     "data": {
      "text/plain": [
       "(dict_keys(['Positive', 'Neutral', 'Negative']),\n",
       " dict_values([1109, 2125, 887]))"
      ]
     },
     "execution_count": 102,
     "metadata": {},
     "output_type": "execute_result"
    }
   ],
   "source": [
    "target_cnt = Counter(filtered_df.target)\n",
    "target_cnt.keys(),target_cnt.values()"
   ]
  },
  {
   "cell_type": "code",
   "execution_count": 103,
   "metadata": {
    "_uuid": "19eb327803192f31cce3512aacb232f4d6b38715"
   },
   "outputs": [
    {
     "data": {
      "text/plain": [
       "Text(0.5, 1.0, 'Dataset labels distribuition')"
      ]
     },
     "execution_count": 103,
     "metadata": {},
     "output_type": "execute_result"
    },
    {
     "data": {
      "image/png": "[encoded data removed]",
      "text/plain": [
       "<Figure size 1152x576 with 1 Axes>"
      ]
     },
     "metadata": {
      "needs_background": "light"
     },
     "output_type": "display_data"
    }
   ],
   "source": [
    "target_cnt = Counter(filtered_df.target)\n",
    "\n",
    "plt.figure(figsize=(16,8))\n",
    "plt.bar(target_cnt.keys(), target_cnt.values())\n",
    "plt.title(\"Dataset labels distribuition\")"
   ]
  },
  {
   "cell_type": "markdown",
   "metadata": {
    "_uuid": "4329b1573518b03e497213efa7676220734ebb4b"
   },
   "source": [
    "### Pre-Process dataset"
   ]
  },
  {
   "cell_type": "code",
   "execution_count": 104,
   "metadata": {
    "_uuid": "8aeee8b7b9ea11b749c7f91cd4787a7b50ed1a91"
   },
   "outputs": [],
   "source": [
    "stop_words = stopwords.words(\"english\")\n",
    "stemmer = SnowballStemmer(\"english\")"
   ]
  },
  {
   "cell_type": "code",
   "execution_count": 44,
   "metadata": {
    "_uuid": "649ebcb97969b9ac4301138783704bb3d7846a49"
   },
   "outputs": [],
   "source": [
    "def preprocess(text, stem=False):\n",
    "    # Remove link,user and special characters\n",
    "    text = re.sub(TEXT_CLEANING_RE, ' ', str(text).lower()).strip()\n",
    "    tokens = []\n",
    "    for token in text.split():\n",
    "        if token not in stop_words:\n",
    "            if stem:\n",
    "                tokens.append(stemmer.stem(token))\n",
    "            else:\n",
    "                tokens.append(token)\n",
    "    return \" \".join(tokens)"
   ]
  },
  {
   "cell_type": "code",
   "execution_count": null,
   "metadata": {},
   "outputs": [],
   "source": []
  },
  {
   "cell_type": "code",
   "execution_count": 45,
   "metadata": {
    "_uuid": "f7f3e77ab9291d14687c49e71ba9b2b1e3323432",
    "scrolled": true
   },
   "outputs": [
    {
     "name": "stdout",
     "output_type": "stream",
     "text": [
      "hi\n",
      "Wall time: 99 ms\n"
     ]
    },
    {
     "name": "stderr",
     "output_type": "stream",
     "text": [
      "C:\\Users\\sm185567\\AppData\\Local\\Continuum\\anaconda3\\envs\\gpu-user\\lib\\site-packages\\ipykernel_launcher.py:1: SettingWithCopyWarning: \n",
      "A value is trying to be set on a copy of a slice from a DataFrame.\n",
      "Try using .loc[row_indexer,col_indexer] = value instead\n",
      "\n",
      "See the caveats in the documentation: https://pandas.pydata.org/pandas-docs/stable/user_guide/indexing.html#returning-a-view-versus-a-copy\n",
      "  \"\"\"Entry point for launching an IPython kernel.\n"
     ]
    }
   ],
   "source": [
    "%%time\n",
    "filtered_df['text'] = filtered_df.text.apply(lambda x: preprocess(x))\n"
   ]
  },
  {
   "cell_type": "markdown",
   "metadata": {
    "_uuid": "f5f9714a8507409bbe780eebf2855a33e8e6ba37"
   },
   "source": [
    "### Split train and test"
   ]
  },
  {
   "cell_type": "code",
   "execution_count": 46,
   "metadata": {
    "_uuid": "d2b1179c968e3f3910c790ecf0c5b2cbb34b0e68"
   },
   "outputs": [
    {
     "name": "stdout",
     "output_type": "stream",
     "text": [
      "TRAIN size: 3296\n",
      "TEST size: 825\n"
     ]
    }
   ],
   "source": [
    "df_train, df_test = train_test_split(filtered_df, test_size=1-TRAIN_SIZE, random_state=42)\n",
    "print(\"TRAIN size:\", len(df_train))\n",
    "print(\"TEST size:\", len(df_test))"
   ]
  },
  {
   "cell_type": "markdown",
   "metadata": {
    "_uuid": "f08a28aab2c3d16d8b9681a7d5d07587153a1cd6"
   },
   "source": [
    "### Word2Vec "
   ]
  },
  {
   "cell_type": "code",
   "execution_count": 47,
   "metadata": {
    "_uuid": "2461bf564de1b4414841933d0c1d1bee5f5cc5a6"
   },
   "outputs": [
    {
     "name": "stdout",
     "output_type": "stream",
     "text": [
      "Wall time: 3 ms\n"
     ]
    }
   ],
   "source": [
    "%%time\n",
    "documents = [_text.split() for _text in df_train.text] "
   ]
  },
  {
   "cell_type": "code",
   "execution_count": 48,
   "metadata": {
    "_uuid": "8e19b9f25801ba86420decc266d2b3e6fb44f1ea"
   },
   "outputs": [],
   "source": [
    "w2v_model = gensim.models.word2vec.Word2Vec(size=W2V_SIZE, \n",
    "                                            window=W2V_WINDOW, \n",
    "                                            min_count=W2V_MIN_COUNT, \n",
    "                                            workers=8)"
   ]
  },
  {
   "cell_type": "code",
   "execution_count": 49,
   "metadata": {
    "_uuid": "58d655af07653c594bec6bebcfb302a973b0ad9c"
   },
   "outputs": [
    {
     "name": "stderr",
     "output_type": "stream",
     "text": [
      "2020-11-23 22:16:41,320 : INFO : collecting all words and their counts\n",
      "2020-11-23 22:16:41,321 : INFO : PROGRESS: at sentence #0, processed 0 words, keeping 0 word types\n",
      "2020-11-23 22:16:41,327 : INFO : collected 2761 word types from a corpus of 23428 raw words and 3296 sentences\n",
      "2020-11-23 22:16:41,328 : INFO : Loading a fresh vocabulary\n",
      "2020-11-23 22:16:41,330 : INFO : effective_min_count=10 retains 322 unique words (11% of original 2761, drops 2439)\n",
      "2020-11-23 22:16:41,331 : INFO : effective_min_count=10 leaves 18300 word corpus (78% of original 23428, drops 5128)\n",
      "2020-11-23 22:16:41,332 : INFO : deleting the raw counts dictionary of 2761 items\n",
      "2020-11-23 22:16:41,333 : INFO : sample=0.001 downsamples 72 most-common words\n",
      "2020-11-23 22:16:41,334 : INFO : downsampling leaves estimated 9996 word corpus (54.6% of prior 18300)\n",
      "2020-11-23 22:16:41,335 : INFO : estimated required memory for 322 words and 300 dimensions: 933800 bytes\n",
      "2020-11-23 22:16:41,336 : INFO : resetting layer weights\n"
     ]
    }
   ],
   "source": [
    "w2v_model.build_vocab(documents)"
   ]
  },
  {
   "cell_type": "code",
   "execution_count": 50,
   "metadata": {
    "_uuid": "72a5628ca81fd4b8983c12d93ae0bf950b86b6ae"
   },
   "outputs": [
    {
     "name": "stdout",
     "output_type": "stream",
     "text": [
      "Vocab size 322\n"
     ]
    }
   ],
   "source": [
    "words = w2v_model.wv.vocab.keys()\n",
    "vocab_size = len(words)\n",
    "print(\"Vocab size\", vocab_size)"
   ]
  },
  {
   "cell_type": "code",
   "execution_count": 51,
   "metadata": {
    "_uuid": "68c3e4a5ba07cac3dee67f78ecdd1404c7f83f14"
   },
   "outputs": [
    {
     "name": "stderr",
     "output_type": "stream",
     "text": [
      "2020-11-23 22:16:42,022 : INFO : training model with 8 workers on 322 vocabulary and 300 features, using sg=0 hs=0 sample=0.001 negative=5 window=7\n",
      "2020-11-23 22:16:42,034 : INFO : worker thread finished; awaiting finish of 7 more threads\n",
      "2020-11-23 22:16:42,037 : INFO : worker thread finished; awaiting finish of 6 more threads\n",
      "2020-11-23 22:16:42,038 : INFO : worker thread finished; awaiting finish of 5 more threads\n",
      "2020-11-23 22:16:42,039 : INFO : worker thread finished; awaiting finish of 4 more threads\n",
      "2020-11-23 22:16:42,039 : INFO : worker thread finished; awaiting finish of 3 more threads\n",
      "2020-11-23 22:16:42,040 : INFO : worker thread finished; awaiting finish of 2 more threads\n",
      "2020-11-23 22:16:42,041 : INFO : worker thread finished; awaiting finish of 1 more threads\n",
      "2020-11-23 22:16:42,045 : INFO : worker thread finished; awaiting finish of 0 more threads\n",
      "2020-11-23 22:16:42,046 : INFO : EPOCH - 1 : training on 23428 raw words (9891 effective words) took 0.0s, 815948 effective words/s\n",
      "2020-11-23 22:16:42,058 : INFO : worker thread finished; awaiting finish of 7 more threads\n",
      "2020-11-23 22:16:42,060 : INFO : worker thread finished; awaiting finish of 6 more threads\n",
      "2020-11-23 22:16:42,061 : INFO : worker thread finished; awaiting finish of 5 more threads\n",
      "2020-11-23 22:16:42,062 : INFO : worker thread finished; awaiting finish of 4 more threads\n",
      "2020-11-23 22:16:42,063 : INFO : worker thread finished; awaiting finish of 3 more threads\n",
      "2020-11-23 22:16:42,064 : INFO : worker thread finished; awaiting finish of 2 more threads\n",
      "2020-11-23 22:16:42,064 : INFO : worker thread finished; awaiting finish of 1 more threads\n",
      "2020-11-23 22:16:42,066 : INFO : worker thread finished; awaiting finish of 0 more threads\n",
      "2020-11-23 22:16:42,067 : INFO : EPOCH - 2 : training on 23428 raw words (10044 effective words) took 0.0s, 722496 effective words/s\n",
      "2020-11-23 22:16:42,083 : INFO : worker thread finished; awaiting finish of 7 more threads\n",
      "2020-11-23 22:16:42,086 : INFO : worker thread finished; awaiting finish of 6 more threads\n",
      "2020-11-23 22:16:42,086 : INFO : worker thread finished; awaiting finish of 5 more threads\n",
      "2020-11-23 22:16:42,087 : INFO : worker thread finished; awaiting finish of 4 more threads\n",
      "2020-11-23 22:16:42,087 : INFO : worker thread finished; awaiting finish of 3 more threads\n",
      "2020-11-23 22:16:42,088 : INFO : worker thread finished; awaiting finish of 2 more threads\n",
      "2020-11-23 22:16:42,089 : INFO : worker thread finished; awaiting finish of 1 more threads\n",
      "2020-11-23 22:16:42,092 : INFO : worker thread finished; awaiting finish of 0 more threads\n",
      "2020-11-23 22:16:42,094 : INFO : EPOCH - 3 : training on 23428 raw words (9963 effective words) took 0.0s, 643871 effective words/s\n",
      "2020-11-23 22:16:42,107 : INFO : worker thread finished; awaiting finish of 7 more threads\n",
      "2020-11-23 22:16:42,109 : INFO : worker thread finished; awaiting finish of 6 more threads\n",
      "2020-11-23 22:16:42,111 : INFO : worker thread finished; awaiting finish of 5 more threads\n",
      "2020-11-23 22:16:42,113 : INFO : worker thread finished; awaiting finish of 4 more threads\n",
      "2020-11-23 22:16:42,115 : INFO : worker thread finished; awaiting finish of 3 more threads\n",
      "2020-11-23 22:16:42,116 : INFO : worker thread finished; awaiting finish of 2 more threads\n",
      "2020-11-23 22:16:42,116 : INFO : worker thread finished; awaiting finish of 1 more threads\n",
      "2020-11-23 22:16:42,117 : INFO : worker thread finished; awaiting finish of 0 more threads\n",
      "2020-11-23 22:16:42,118 : INFO : EPOCH - 4 : training on 23428 raw words (9883 effective words) took 0.0s, 900370 effective words/s\n",
      "2020-11-23 22:16:42,132 : INFO : worker thread finished; awaiting finish of 7 more threads\n",
      "2020-11-23 22:16:42,134 : INFO : worker thread finished; awaiting finish of 6 more threads\n",
      "2020-11-23 22:16:42,134 : INFO : worker thread finished; awaiting finish of 5 more threads\n",
      "2020-11-23 22:16:42,135 : INFO : worker thread finished; awaiting finish of 4 more threads\n",
      "2020-11-23 22:16:42,137 : INFO : worker thread finished; awaiting finish of 3 more threads\n",
      "2020-11-23 22:16:42,139 : INFO : worker thread finished; awaiting finish of 2 more threads\n",
      "2020-11-23 22:16:42,140 : INFO : worker thread finished; awaiting finish of 1 more threads\n",
      "2020-11-23 22:16:42,142 : INFO : worker thread finished; awaiting finish of 0 more threads\n",
      "2020-11-23 22:16:42,144 : INFO : EPOCH - 5 : training on 23428 raw words (9960 effective words) took 0.0s, 603746 effective words/s\n",
      "2020-11-23 22:16:42,158 : INFO : worker thread finished; awaiting finish of 7 more threads\n",
      "2020-11-23 22:16:42,163 : INFO : worker thread finished; awaiting finish of 6 more threads\n",
      "2020-11-23 22:16:42,164 : INFO : worker thread finished; awaiting finish of 5 more threads\n",
      "2020-11-23 22:16:42,164 : INFO : worker thread finished; awaiting finish of 4 more threads\n",
      "2020-11-23 22:16:42,165 : INFO : worker thread finished; awaiting finish of 3 more threads\n",
      "2020-11-23 22:16:42,166 : INFO : worker thread finished; awaiting finish of 2 more threads\n",
      "2020-11-23 22:16:42,167 : INFO : worker thread finished; awaiting finish of 1 more threads\n",
      "2020-11-23 22:16:42,167 : INFO : worker thread finished; awaiting finish of 0 more threads\n",
      "2020-11-23 22:16:42,168 : INFO : EPOCH - 6 : training on 23428 raw words (9991 effective words) took 0.0s, 716946 effective words/s\n",
      "2020-11-23 22:16:42,183 : INFO : worker thread finished; awaiting finish of 7 more threads\n",
      "2020-11-23 22:16:42,185 : INFO : worker thread finished; awaiting finish of 6 more threads\n",
      "2020-11-23 22:16:42,187 : INFO : worker thread finished; awaiting finish of 5 more threads\n",
      "2020-11-23 22:16:42,188 : INFO : worker thread finished; awaiting finish of 4 more threads\n",
      "2020-11-23 22:16:42,189 : INFO : worker thread finished; awaiting finish of 3 more threads\n",
      "2020-11-23 22:16:42,189 : INFO : worker thread finished; awaiting finish of 2 more threads\n",
      "2020-11-23 22:16:42,190 : INFO : worker thread finished; awaiting finish of 1 more threads\n",
      "2020-11-23 22:16:42,191 : INFO : worker thread finished; awaiting finish of 0 more threads\n",
      "2020-11-23 22:16:42,192 : INFO : EPOCH - 7 : training on 23428 raw words (9981 effective words) took 0.0s, 673818 effective words/s\n",
      "2020-11-23 22:16:42,203 : INFO : worker thread finished; awaiting finish of 7 more threads\n",
      "2020-11-23 22:16:42,204 : INFO : worker thread finished; awaiting finish of 6 more threads\n",
      "2020-11-23 22:16:42,205 : INFO : worker thread finished; awaiting finish of 5 more threads\n",
      "2020-11-23 22:16:42,205 : INFO : worker thread finished; awaiting finish of 4 more threads\n",
      "2020-11-23 22:16:42,206 : INFO : worker thread finished; awaiting finish of 3 more threads\n",
      "2020-11-23 22:16:42,207 : INFO : worker thread finished; awaiting finish of 2 more threads\n",
      "2020-11-23 22:16:42,208 : INFO : worker thread finished; awaiting finish of 1 more threads\n",
      "2020-11-23 22:16:42,210 : INFO : worker thread finished; awaiting finish of 0 more threads\n",
      "2020-11-23 22:16:42,211 : INFO : EPOCH - 8 : training on 23428 raw words (9997 effective words) took 0.0s, 1211141 effective words/s\n",
      "2020-11-23 22:16:42,224 : INFO : worker thread finished; awaiting finish of 7 more threads\n",
      "2020-11-23 22:16:42,228 : INFO : worker thread finished; awaiting finish of 6 more threads\n",
      "2020-11-23 22:16:42,230 : INFO : worker thread finished; awaiting finish of 5 more threads\n",
      "2020-11-23 22:16:42,231 : INFO : worker thread finished; awaiting finish of 4 more threads\n",
      "2020-11-23 22:16:42,232 : INFO : worker thread finished; awaiting finish of 3 more threads\n",
      "2020-11-23 22:16:42,233 : INFO : worker thread finished; awaiting finish of 2 more threads\n",
      "2020-11-23 22:16:42,233 : INFO : worker thread finished; awaiting finish of 1 more threads\n",
      "2020-11-23 22:16:42,234 : INFO : worker thread finished; awaiting finish of 0 more threads\n",
      "2020-11-23 22:16:42,235 : INFO : EPOCH - 9 : training on 23428 raw words (10002 effective words) took 0.0s, 646429 effective words/s\n",
      "2020-11-23 22:16:42,247 : INFO : worker thread finished; awaiting finish of 7 more threads\n",
      "2020-11-23 22:16:42,248 : INFO : worker thread finished; awaiting finish of 6 more threads\n",
      "2020-11-23 22:16:42,249 : INFO : worker thread finished; awaiting finish of 5 more threads\n",
      "2020-11-23 22:16:42,250 : INFO : worker thread finished; awaiting finish of 4 more threads\n"
     ]
    },
    {
     "name": "stderr",
     "output_type": "stream",
     "text": [
      "2020-11-23 22:16:42,251 : INFO : worker thread finished; awaiting finish of 3 more threads\n",
      "2020-11-23 22:16:42,251 : INFO : worker thread finished; awaiting finish of 2 more threads\n",
      "2020-11-23 22:16:42,252 : INFO : worker thread finished; awaiting finish of 1 more threads\n",
      "2020-11-23 22:16:42,253 : INFO : worker thread finished; awaiting finish of 0 more threads\n",
      "2020-11-23 22:16:42,254 : INFO : EPOCH - 10 : training on 23428 raw words (10005 effective words) took 0.0s, 831512 effective words/s\n",
      "2020-11-23 22:16:42,268 : INFO : worker thread finished; awaiting finish of 7 more threads\n",
      "2020-11-23 22:16:42,272 : INFO : worker thread finished; awaiting finish of 6 more threads\n",
      "2020-11-23 22:16:42,273 : INFO : worker thread finished; awaiting finish of 5 more threads\n",
      "2020-11-23 22:16:42,274 : INFO : worker thread finished; awaiting finish of 4 more threads\n",
      "2020-11-23 22:16:42,275 : INFO : worker thread finished; awaiting finish of 3 more threads\n",
      "2020-11-23 22:16:42,276 : INFO : worker thread finished; awaiting finish of 2 more threads\n",
      "2020-11-23 22:16:42,279 : INFO : worker thread finished; awaiting finish of 1 more threads\n",
      "2020-11-23 22:16:42,280 : INFO : worker thread finished; awaiting finish of 0 more threads\n",
      "2020-11-23 22:16:42,281 : INFO : EPOCH - 11 : training on 23428 raw words (9989 effective words) took 0.0s, 633719 effective words/s\n",
      "2020-11-23 22:16:42,292 : INFO : worker thread finished; awaiting finish of 7 more threads\n",
      "2020-11-23 22:16:42,294 : INFO : worker thread finished; awaiting finish of 6 more threads\n",
      "2020-11-23 22:16:42,295 : INFO : worker thread finished; awaiting finish of 5 more threads\n",
      "2020-11-23 22:16:42,295 : INFO : worker thread finished; awaiting finish of 4 more threads\n",
      "2020-11-23 22:16:42,296 : INFO : worker thread finished; awaiting finish of 3 more threads\n",
      "2020-11-23 22:16:42,297 : INFO : worker thread finished; awaiting finish of 2 more threads\n",
      "2020-11-23 22:16:42,298 : INFO : worker thread finished; awaiting finish of 1 more threads\n",
      "2020-11-23 22:16:42,299 : INFO : worker thread finished; awaiting finish of 0 more threads\n",
      "2020-11-23 22:16:42,299 : INFO : EPOCH - 12 : training on 23428 raw words (10015 effective words) took 0.0s, 1364813 effective words/s\n",
      "2020-11-23 22:16:42,315 : INFO : worker thread finished; awaiting finish of 7 more threads\n",
      "2020-11-23 22:16:42,317 : INFO : worker thread finished; awaiting finish of 6 more threads\n",
      "2020-11-23 22:16:42,319 : INFO : worker thread finished; awaiting finish of 5 more threads\n",
      "2020-11-23 22:16:42,320 : INFO : worker thread finished; awaiting finish of 4 more threads\n",
      "2020-11-23 22:16:42,321 : INFO : worker thread finished; awaiting finish of 3 more threads\n",
      "2020-11-23 22:16:42,322 : INFO : worker thread finished; awaiting finish of 2 more threads\n",
      "2020-11-23 22:16:42,323 : INFO : worker thread finished; awaiting finish of 1 more threads\n",
      "2020-11-23 22:16:42,324 : INFO : worker thread finished; awaiting finish of 0 more threads\n",
      "2020-11-23 22:16:42,325 : INFO : EPOCH - 13 : training on 23428 raw words (9969 effective words) took 0.0s, 1043306 effective words/s\n",
      "2020-11-23 22:16:42,337 : INFO : worker thread finished; awaiting finish of 7 more threads\n",
      "2020-11-23 22:16:42,339 : INFO : worker thread finished; awaiting finish of 6 more threads\n",
      "2020-11-23 22:16:42,341 : INFO : worker thread finished; awaiting finish of 5 more threads\n",
      "2020-11-23 22:16:42,341 : INFO : worker thread finished; awaiting finish of 4 more threads\n",
      "2020-11-23 22:16:42,345 : INFO : worker thread finished; awaiting finish of 3 more threads\n",
      "2020-11-23 22:16:42,346 : INFO : worker thread finished; awaiting finish of 2 more threads\n",
      "2020-11-23 22:16:42,347 : INFO : worker thread finished; awaiting finish of 1 more threads\n",
      "2020-11-23 22:16:42,348 : INFO : worker thread finished; awaiting finish of 0 more threads\n",
      "2020-11-23 22:16:42,348 : INFO : EPOCH - 14 : training on 23428 raw words (9913 effective words) took 0.0s, 886530 effective words/s\n",
      "2020-11-23 22:16:42,364 : INFO : worker thread finished; awaiting finish of 7 more threads\n",
      "2020-11-23 22:16:42,366 : INFO : worker thread finished; awaiting finish of 6 more threads\n",
      "2020-11-23 22:16:42,367 : INFO : worker thread finished; awaiting finish of 5 more threads\n",
      "2020-11-23 22:16:42,368 : INFO : worker thread finished; awaiting finish of 4 more threads\n",
      "2020-11-23 22:16:42,369 : INFO : worker thread finished; awaiting finish of 3 more threads\n",
      "2020-11-23 22:16:42,369 : INFO : worker thread finished; awaiting finish of 2 more threads\n",
      "2020-11-23 22:16:42,370 : INFO : worker thread finished; awaiting finish of 1 more threads\n",
      "2020-11-23 22:16:42,371 : INFO : worker thread finished; awaiting finish of 0 more threads\n",
      "2020-11-23 22:16:42,371 : INFO : EPOCH - 15 : training on 23428 raw words (9991 effective words) took 0.0s, 883456 effective words/s\n",
      "2020-11-23 22:16:42,383 : INFO : worker thread finished; awaiting finish of 7 more threads\n",
      "2020-11-23 22:16:42,385 : INFO : worker thread finished; awaiting finish of 6 more threads\n",
      "2020-11-23 22:16:42,386 : INFO : worker thread finished; awaiting finish of 5 more threads\n",
      "2020-11-23 22:16:42,387 : INFO : worker thread finished; awaiting finish of 4 more threads\n",
      "2020-11-23 22:16:42,387 : INFO : worker thread finished; awaiting finish of 3 more threads\n",
      "2020-11-23 22:16:42,388 : INFO : worker thread finished; awaiting finish of 2 more threads\n",
      "2020-11-23 22:16:42,389 : INFO : worker thread finished; awaiting finish of 1 more threads\n",
      "2020-11-23 22:16:42,389 : INFO : worker thread finished; awaiting finish of 0 more threads\n",
      "2020-11-23 22:16:42,390 : INFO : EPOCH - 16 : training on 23428 raw words (9977 effective words) took 0.0s, 1516077 effective words/s\n",
      "2020-11-23 22:16:42,404 : INFO : worker thread finished; awaiting finish of 7 more threads\n",
      "2020-11-23 22:16:42,408 : INFO : worker thread finished; awaiting finish of 6 more threads\n",
      "2020-11-23 22:16:42,410 : INFO : worker thread finished; awaiting finish of 5 more threads\n",
      "2020-11-23 22:16:42,411 : INFO : worker thread finished; awaiting finish of 4 more threads\n",
      "2020-11-23 22:16:42,412 : INFO : worker thread finished; awaiting finish of 3 more threads\n",
      "2020-11-23 22:16:42,414 : INFO : worker thread finished; awaiting finish of 2 more threads\n",
      "2020-11-23 22:16:42,415 : INFO : worker thread finished; awaiting finish of 1 more threads\n",
      "2020-11-23 22:16:42,418 : INFO : worker thread finished; awaiting finish of 0 more threads\n",
      "2020-11-23 22:16:42,419 : INFO : EPOCH - 17 : training on 23428 raw words (9989 effective words) took 0.0s, 513687 effective words/s\n",
      "2020-11-23 22:16:42,434 : INFO : worker thread finished; awaiting finish of 7 more threads\n",
      "2020-11-23 22:16:42,436 : INFO : worker thread finished; awaiting finish of 6 more threads\n",
      "2020-11-23 22:16:42,439 : INFO : worker thread finished; awaiting finish of 5 more threads\n",
      "2020-11-23 22:16:42,440 : INFO : worker thread finished; awaiting finish of 4 more threads\n",
      "2020-11-23 22:16:42,441 : INFO : worker thread finished; awaiting finish of 3 more threads\n",
      "2020-11-23 22:16:42,442 : INFO : worker thread finished; awaiting finish of 2 more threads\n",
      "2020-11-23 22:16:42,443 : INFO : worker thread finished; awaiting finish of 1 more threads\n",
      "2020-11-23 22:16:42,446 : INFO : worker thread finished; awaiting finish of 0 more threads\n",
      "2020-11-23 22:16:42,447 : INFO : EPOCH - 18 : training on 23428 raw words (9958 effective words) took 0.0s, 757389 effective words/s\n",
      "2020-11-23 22:16:42,461 : INFO : worker thread finished; awaiting finish of 7 more threads\n",
      "2020-11-23 22:16:42,463 : INFO : worker thread finished; awaiting finish of 6 more threads\n",
      "2020-11-23 22:16:42,464 : INFO : worker thread finished; awaiting finish of 5 more threads\n",
      "2020-11-23 22:16:42,466 : INFO : worker thread finished; awaiting finish of 4 more threads\n",
      "2020-11-23 22:16:42,467 : INFO : worker thread finished; awaiting finish of 3 more threads\n",
      "2020-11-23 22:16:42,467 : INFO : worker thread finished; awaiting finish of 2 more threads\n",
      "2020-11-23 22:16:42,468 : INFO : worker thread finished; awaiting finish of 1 more threads\n",
      "2020-11-23 22:16:42,469 : INFO : worker thread finished; awaiting finish of 0 more threads\n",
      "2020-11-23 22:16:42,470 : INFO : EPOCH - 19 : training on 23428 raw words (10014 effective words) took 0.0s, 642859 effective words/s\n"
     ]
    },
    {
     "name": "stderr",
     "output_type": "stream",
     "text": [
      "2020-11-23 22:16:42,490 : INFO : worker thread finished; awaiting finish of 7 more threads\n",
      "2020-11-23 22:16:42,491 : INFO : worker thread finished; awaiting finish of 6 more threads\n",
      "2020-11-23 22:16:42,492 : INFO : worker thread finished; awaiting finish of 5 more threads\n",
      "2020-11-23 22:16:42,495 : INFO : worker thread finished; awaiting finish of 4 more threads\n",
      "2020-11-23 22:16:42,496 : INFO : worker thread finished; awaiting finish of 3 more threads\n",
      "2020-11-23 22:16:42,496 : INFO : worker thread finished; awaiting finish of 2 more threads\n",
      "2020-11-23 22:16:42,497 : INFO : worker thread finished; awaiting finish of 1 more threads\n",
      "2020-11-23 22:16:42,498 : INFO : worker thread finished; awaiting finish of 0 more threads\n",
      "2020-11-23 22:16:42,499 : INFO : EPOCH - 20 : training on 23428 raw words (10010 effective words) took 0.0s, 722535 effective words/s\n",
      "2020-11-23 22:16:42,512 : INFO : worker thread finished; awaiting finish of 7 more threads\n",
      "2020-11-23 22:16:42,514 : INFO : worker thread finished; awaiting finish of 6 more threads\n",
      "2020-11-23 22:16:42,515 : INFO : worker thread finished; awaiting finish of 5 more threads\n",
      "2020-11-23 22:16:42,516 : INFO : worker thread finished; awaiting finish of 4 more threads\n",
      "2020-11-23 22:16:42,517 : INFO : worker thread finished; awaiting finish of 3 more threads\n",
      "2020-11-23 22:16:42,518 : INFO : worker thread finished; awaiting finish of 2 more threads\n",
      "2020-11-23 22:16:42,518 : INFO : worker thread finished; awaiting finish of 1 more threads\n",
      "2020-11-23 22:16:42,519 : INFO : worker thread finished; awaiting finish of 0 more threads\n",
      "2020-11-23 22:16:42,520 : INFO : EPOCH - 21 : training on 23428 raw words (10013 effective words) took 0.0s, 754644 effective words/s\n",
      "2020-11-23 22:16:42,531 : INFO : worker thread finished; awaiting finish of 7 more threads\n",
      "2020-11-23 22:16:42,536 : INFO : worker thread finished; awaiting finish of 6 more threads\n",
      "2020-11-23 22:16:42,537 : INFO : worker thread finished; awaiting finish of 5 more threads\n",
      "2020-11-23 22:16:42,537 : INFO : worker thread finished; awaiting finish of 4 more threads\n",
      "2020-11-23 22:16:42,539 : INFO : worker thread finished; awaiting finish of 3 more threads\n",
      "2020-11-23 22:16:42,539 : INFO : worker thread finished; awaiting finish of 2 more threads\n",
      "2020-11-23 22:16:42,540 : INFO : worker thread finished; awaiting finish of 1 more threads\n",
      "2020-11-23 22:16:42,542 : INFO : worker thread finished; awaiting finish of 0 more threads\n",
      "2020-11-23 22:16:42,544 : INFO : EPOCH - 22 : training on 23428 raw words (10000 effective words) took 0.0s, 772171 effective words/s\n",
      "2020-11-23 22:16:42,554 : INFO : worker thread finished; awaiting finish of 7 more threads\n",
      "2020-11-23 22:16:42,557 : INFO : worker thread finished; awaiting finish of 6 more threads\n",
      "2020-11-23 22:16:42,559 : INFO : worker thread finished; awaiting finish of 5 more threads\n",
      "2020-11-23 22:16:42,560 : INFO : worker thread finished; awaiting finish of 4 more threads\n",
      "2020-11-23 22:16:42,562 : INFO : worker thread finished; awaiting finish of 3 more threads\n",
      "2020-11-23 22:16:42,565 : INFO : worker thread finished; awaiting finish of 2 more threads\n",
      "2020-11-23 22:16:42,566 : INFO : worker thread finished; awaiting finish of 1 more threads\n",
      "2020-11-23 22:16:42,567 : INFO : worker thread finished; awaiting finish of 0 more threads\n",
      "2020-11-23 22:16:42,568 : INFO : EPOCH - 23 : training on 23428 raw words (10028 effective words) took 0.0s, 717362 effective words/s\n",
      "2020-11-23 22:16:42,580 : INFO : worker thread finished; awaiting finish of 7 more threads\n",
      "2020-11-23 22:16:42,582 : INFO : worker thread finished; awaiting finish of 6 more threads\n",
      "2020-11-23 22:16:42,582 : INFO : worker thread finished; awaiting finish of 5 more threads\n",
      "2020-11-23 22:16:42,583 : INFO : worker thread finished; awaiting finish of 4 more threads\n",
      "2020-11-23 22:16:42,585 : INFO : worker thread finished; awaiting finish of 3 more threads\n",
      "2020-11-23 22:16:42,585 : INFO : worker thread finished; awaiting finish of 2 more threads\n",
      "2020-11-23 22:16:42,586 : INFO : worker thread finished; awaiting finish of 1 more threads\n",
      "2020-11-23 22:16:42,586 : INFO : worker thread finished; awaiting finish of 0 more threads\n",
      "2020-11-23 22:16:42,587 : INFO : EPOCH - 24 : training on 23428 raw words (10080 effective words) took 0.0s, 808146 effective words/s\n",
      "2020-11-23 22:16:42,597 : INFO : worker thread finished; awaiting finish of 7 more threads\n",
      "2020-11-23 22:16:42,601 : INFO : worker thread finished; awaiting finish of 6 more threads\n",
      "2020-11-23 22:16:42,602 : INFO : worker thread finished; awaiting finish of 5 more threads\n",
      "2020-11-23 22:16:42,603 : INFO : worker thread finished; awaiting finish of 4 more threads\n",
      "2020-11-23 22:16:42,604 : INFO : worker thread finished; awaiting finish of 3 more threads\n",
      "2020-11-23 22:16:42,606 : INFO : worker thread finished; awaiting finish of 2 more threads\n",
      "2020-11-23 22:16:42,607 : INFO : worker thread finished; awaiting finish of 1 more threads\n",
      "2020-11-23 22:16:42,608 : INFO : worker thread finished; awaiting finish of 0 more threads\n",
      "2020-11-23 22:16:42,610 : INFO : EPOCH - 25 : training on 23428 raw words (10002 effective words) took 0.0s, 627230 effective words/s\n",
      "2020-11-23 22:16:42,622 : INFO : worker thread finished; awaiting finish of 7 more threads\n",
      "2020-11-23 22:16:42,624 : INFO : worker thread finished; awaiting finish of 6 more threads\n",
      "2020-11-23 22:16:42,625 : INFO : worker thread finished; awaiting finish of 5 more threads\n",
      "2020-11-23 22:16:42,626 : INFO : worker thread finished; awaiting finish of 4 more threads\n",
      "2020-11-23 22:16:42,628 : INFO : worker thread finished; awaiting finish of 3 more threads\n",
      "2020-11-23 22:16:42,628 : INFO : worker thread finished; awaiting finish of 2 more threads\n",
      "2020-11-23 22:16:42,629 : INFO : worker thread finished; awaiting finish of 1 more threads\n",
      "2020-11-23 22:16:42,630 : INFO : worker thread finished; awaiting finish of 0 more threads\n",
      "2020-11-23 22:16:42,631 : INFO : EPOCH - 26 : training on 23428 raw words (10006 effective words) took 0.0s, 776285 effective words/s\n",
      "2020-11-23 22:16:42,643 : INFO : worker thread finished; awaiting finish of 7 more threads\n",
      "2020-11-23 22:16:42,646 : INFO : worker thread finished; awaiting finish of 6 more threads\n",
      "2020-11-23 22:16:42,647 : INFO : worker thread finished; awaiting finish of 5 more threads\n",
      "2020-11-23 22:16:42,648 : INFO : worker thread finished; awaiting finish of 4 more threads\n",
      "2020-11-23 22:16:42,649 : INFO : worker thread finished; awaiting finish of 3 more threads\n",
      "2020-11-23 22:16:42,649 : INFO : worker thread finished; awaiting finish of 2 more threads\n",
      "2020-11-23 22:16:42,650 : INFO : worker thread finished; awaiting finish of 1 more threads\n",
      "2020-11-23 22:16:42,650 : INFO : worker thread finished; awaiting finish of 0 more threads\n",
      "2020-11-23 22:16:42,651 : INFO : EPOCH - 27 : training on 23428 raw words (9917 effective words) took 0.0s, 760617 effective words/s\n",
      "2020-11-23 22:16:42,661 : INFO : worker thread finished; awaiting finish of 7 more threads\n",
      "2020-11-23 22:16:42,663 : INFO : worker thread finished; awaiting finish of 6 more threads\n",
      "2020-11-23 22:16:42,666 : INFO : worker thread finished; awaiting finish of 5 more threads\n",
      "2020-11-23 22:16:42,666 : INFO : worker thread finished; awaiting finish of 4 more threads\n",
      "2020-11-23 22:16:42,667 : INFO : worker thread finished; awaiting finish of 3 more threads\n",
      "2020-11-23 22:16:42,667 : INFO : worker thread finished; awaiting finish of 2 more threads\n",
      "2020-11-23 22:16:42,668 : INFO : worker thread finished; awaiting finish of 1 more threads\n",
      "2020-11-23 22:16:42,671 : INFO : worker thread finished; awaiting finish of 0 more threads\n",
      "2020-11-23 22:16:42,672 : INFO : EPOCH - 28 : training on 23428 raw words (10054 effective words) took 0.0s, 728778 effective words/s\n",
      "2020-11-23 22:16:42,684 : INFO : worker thread finished; awaiting finish of 7 more threads\n",
      "2020-11-23 22:16:42,686 : INFO : worker thread finished; awaiting finish of 6 more threads\n",
      "2020-11-23 22:16:42,687 : INFO : worker thread finished; awaiting finish of 5 more threads\n",
      "2020-11-23 22:16:42,689 : INFO : worker thread finished; awaiting finish of 4 more threads\n",
      "2020-11-23 22:16:42,690 : INFO : worker thread finished; awaiting finish of 3 more threads\n"
     ]
    },
    {
     "name": "stderr",
     "output_type": "stream",
     "text": [
      "2020-11-23 22:16:42,691 : INFO : worker thread finished; awaiting finish of 2 more threads\n",
      "2020-11-23 22:16:42,694 : INFO : worker thread finished; awaiting finish of 1 more threads\n",
      "2020-11-23 22:16:42,694 : INFO : worker thread finished; awaiting finish of 0 more threads\n",
      "2020-11-23 22:16:42,695 : INFO : EPOCH - 29 : training on 23428 raw words (9983 effective words) took 0.0s, 691664 effective words/s\n",
      "2020-11-23 22:16:42,705 : INFO : worker thread finished; awaiting finish of 7 more threads\n",
      "2020-11-23 22:16:42,709 : INFO : worker thread finished; awaiting finish of 6 more threads\n",
      "2020-11-23 22:16:42,711 : INFO : worker thread finished; awaiting finish of 5 more threads\n",
      "2020-11-23 22:16:42,713 : INFO : worker thread finished; awaiting finish of 4 more threads\n",
      "2020-11-23 22:16:42,714 : INFO : worker thread finished; awaiting finish of 3 more threads\n",
      "2020-11-23 22:16:42,715 : INFO : worker thread finished; awaiting finish of 2 more threads\n",
      "2020-11-23 22:16:42,715 : INFO : worker thread finished; awaiting finish of 1 more threads\n",
      "2020-11-23 22:16:42,717 : INFO : worker thread finished; awaiting finish of 0 more threads\n",
      "2020-11-23 22:16:42,717 : INFO : EPOCH - 30 : training on 23428 raw words (10046 effective words) took 0.0s, 819219 effective words/s\n",
      "2020-11-23 22:16:42,727 : INFO : worker thread finished; awaiting finish of 7 more threads\n",
      "2020-11-23 22:16:42,731 : INFO : worker thread finished; awaiting finish of 6 more threads\n",
      "2020-11-23 22:16:42,733 : INFO : worker thread finished; awaiting finish of 5 more threads\n",
      "2020-11-23 22:16:42,735 : INFO : worker thread finished; awaiting finish of 4 more threads\n",
      "2020-11-23 22:16:42,735 : INFO : worker thread finished; awaiting finish of 3 more threads\n",
      "2020-11-23 22:16:42,736 : INFO : worker thread finished; awaiting finish of 2 more threads\n",
      "2020-11-23 22:16:42,737 : INFO : worker thread finished; awaiting finish of 1 more threads\n",
      "2020-11-23 22:16:42,738 : INFO : worker thread finished; awaiting finish of 0 more threads\n",
      "2020-11-23 22:16:42,739 : INFO : EPOCH - 31 : training on 23428 raw words (9956 effective words) took 0.0s, 808695 effective words/s\n",
      "2020-11-23 22:16:42,752 : INFO : worker thread finished; awaiting finish of 7 more threads\n",
      "2020-11-23 22:16:42,754 : INFO : worker thread finished; awaiting finish of 6 more threads\n",
      "2020-11-23 22:16:42,755 : INFO : worker thread finished; awaiting finish of 5 more threads\n",
      "2020-11-23 22:16:42,755 : INFO : worker thread finished; awaiting finish of 4 more threads\n",
      "2020-11-23 22:16:42,757 : INFO : worker thread finished; awaiting finish of 3 more threads\n",
      "2020-11-23 22:16:42,759 : INFO : worker thread finished; awaiting finish of 2 more threads\n",
      "2020-11-23 22:16:42,761 : INFO : worker thread finished; awaiting finish of 1 more threads\n",
      "2020-11-23 22:16:42,762 : INFO : worker thread finished; awaiting finish of 0 more threads\n",
      "2020-11-23 22:16:42,762 : INFO : EPOCH - 32 : training on 23428 raw words (9956 effective words) took 0.0s, 694727 effective words/s\n",
      "2020-11-23 22:16:42,763 : INFO : training on a 749696 raw words (319583 effective words) took 0.7s, 431593 effective words/s\n"
     ]
    },
    {
     "name": "stdout",
     "output_type": "stream",
     "text": [
      "Wall time: 743 ms\n"
     ]
    },
    {
     "data": {
      "text/plain": [
       "(319583, 749696)"
      ]
     },
     "execution_count": 51,
     "metadata": {},
     "output_type": "execute_result"
    }
   ],
   "source": [
    "%%time\n",
    "w2v_model.train(documents, total_examples=len(documents), epochs=W2V_EPOCH)"
   ]
  },
  {
   "cell_type": "code",
   "execution_count": 52,
   "metadata": {
    "_uuid": "27cc2651c74227115d8bfd8c40e5618048e05edd"
   },
   "outputs": [
    {
     "name": "stderr",
     "output_type": "stream",
     "text": [
      "C:\\Users\\sm185567\\AppData\\Local\\Continuum\\anaconda3\\envs\\gpu-user\\lib\\site-packages\\ipykernel_launcher.py:1: DeprecationWarning: Call to deprecated `most_similar` (Method will be removed in 4.0.0, use self.wv.most_similar() instead).\n",
      "  \"\"\"Entry point for launching an IPython kernel.\n",
      "2020-11-23 22:16:42,771 : INFO : precomputing L2-norms of word weight vectors\n"
     ]
    },
    {
     "data": {
      "text/plain": [
       "[('2', 0.9340503215789795),\n",
       " ('season', 0.9298324584960938),\n",
       " ('released', 0.8415657877922058),\n",
       " ('1', 0.8405765295028687),\n",
       " ('mi', 0.8402047157287598),\n",
       " ('fans', 0.811823844909668),\n",
       " ('characters', 0.7961575984954834),\n",
       " ('3', 0.7910913825035095),\n",
       " ('sleep', 0.7815923094749451),\n",
       " ('entire', 0.7780166864395142)]"
      ]
     },
     "execution_count": 52,
     "metadata": {},
     "output_type": "execute_result"
    }
   ],
   "source": [
    "w2v_model.most_similar(\"mirzapur\")"
   ]
  },
  {
   "cell_type": "markdown",
   "metadata": {
    "_uuid": "e13563644468037258598637b49373ca96b9b879"
   },
   "source": [
    "### Tokenize Text"
   ]
  },
  {
   "cell_type": "code",
   "execution_count": 53,
   "metadata": {
    "_uuid": "6852bc709a7cd20173cbeeb218505078f8f37c57"
   },
   "outputs": [
    {
     "name": "stdout",
     "output_type": "stream",
     "text": [
      "Total words 2762\n",
      "Wall time: 36 ms\n"
     ]
    }
   ],
   "source": [
    "%%time\n",
    "tokenizer = Tokenizer()\n",
    "tokenizer.fit_on_texts(df_train.text)\n",
    "\n",
    "vocab_size = len(tokenizer.word_index) + 1\n",
    "print(\"Total words\", vocab_size)"
   ]
  },
  {
   "cell_type": "code",
   "execution_count": 54,
   "metadata": {
    "_uuid": "45de439df3015030c71f84c2d170346936a1d68f"
   },
   "outputs": [
    {
     "name": "stdout",
     "output_type": "stream",
     "text": [
      "Wall time: 52.1 ms\n"
     ]
    }
   ],
   "source": [
    "%%time\n",
    "x_train = pad_sequences(tokenizer.texts_to_sequences(df_train.text), maxlen=SEQUENCE_LENGTH)\n",
    "x_test = pad_sequences(tokenizer.texts_to_sequences(df_test.text), maxlen=SEQUENCE_LENGTH)"
   ]
  },
  {
   "cell_type": "markdown",
   "metadata": {
    "_uuid": "03b35903fc6260e190d6928d240ef7432de117fc"
   },
   "source": [
    "### Label Encoder "
   ]
  },
  {
   "cell_type": "code",
   "execution_count": 55,
   "metadata": {
    "_uuid": "33676e0efa39e97d89bd650b8b4eae933a22fbf0"
   },
   "outputs": [
    {
     "data": {
      "text/plain": [
       "['Negative', 'Positive', 'Neutral']"
      ]
     },
     "execution_count": 55,
     "metadata": {},
     "output_type": "execute_result"
    }
   ],
   "source": [
    "labels = df_train.target.unique().tolist()\n",
    "\n",
    "labels"
   ]
  },
  {
   "cell_type": "code",
   "execution_count": 56,
   "metadata": {
    "_uuid": "04239a9bef76e7922fd86098a5601dfde8ee4665"
   },
   "outputs": [
    {
     "name": "stdout",
     "output_type": "stream",
     "text": [
      "y_train (3296, 1)\n",
      "y_test (825, 1)\n"
     ]
    }
   ],
   "source": [
    "encoder = LabelEncoder()\n",
    "encoder.fit(df_train.target.tolist())\n",
    "\n",
    "y_train = encoder.transform(df_train.target.tolist())\n",
    "y_test = encoder.transform(df_test.target.tolist())\n",
    "\n",
    "y_train = y_train.reshape(-1,1)\n",
    "y_test = y_test.reshape(-1,1)\n",
    "\n",
    "print(\"y_train\",y_train.shape)\n",
    "print(\"y_test\",y_test.shape)"
   ]
  },
  {
   "cell_type": "code",
   "execution_count": 57,
   "metadata": {
    "_uuid": "04299c886911ca135583ab64878f213939a2990c"
   },
   "outputs": [
    {
     "name": "stdout",
     "output_type": "stream",
     "text": [
      "x_train (3296, 300)\n",
      "y_train (3296, 1)\n",
      "\n",
      "x_test (825, 300)\n",
      "y_test (825, 1)\n"
     ]
    }
   ],
   "source": [
    "print(\"x_train\", x_train.shape)\n",
    "print(\"y_train\", y_train.shape)\n",
    "print()\n",
    "print(\"x_test\", x_test.shape)\n",
    "print(\"y_test\", y_test.shape)"
   ]
  },
  {
   "cell_type": "code",
   "execution_count": 58,
   "metadata": {
    "_uuid": "232533fb27b7be99d9b8c2f8fb22c9c6bf121a6f"
   },
   "outputs": [
    {
     "data": {
      "text/plain": [
       "array([[0],\n",
       "       [0],\n",
       "       [2],\n",
       "       [1],\n",
       "       [1],\n",
       "       [1],\n",
       "       [1],\n",
       "       [1],\n",
       "       [1],\n",
       "       [2]], dtype=int64)"
      ]
     },
     "execution_count": 58,
     "metadata": {},
     "output_type": "execute_result"
    }
   ],
   "source": [
    "y_train[:10]"
   ]
  },
  {
   "cell_type": "markdown",
   "metadata": {
    "_uuid": "233c0ea94055a03e2e7df3e2a13d036ec963484f"
   },
   "source": [
    "### Embedding layer"
   ]
  },
  {
   "cell_type": "code",
   "execution_count": 59,
   "metadata": {
    "_uuid": "9ab488374b59e3f30f8b1ea92767d853c4846bac"
   },
   "outputs": [
    {
     "name": "stdout",
     "output_type": "stream",
     "text": [
      "(2762, 300)\n"
     ]
    }
   ],
   "source": [
    "embedding_matrix = np.zeros((vocab_size, W2V_SIZE))\n",
    "for word, i in tokenizer.word_index.items():\n",
    "  if word in w2v_model.wv:\n",
    "    embedding_matrix[i] = w2v_model.wv[word]\n",
    "print(embedding_matrix.shape)"
   ]
  },
  {
   "cell_type": "code",
   "execution_count": 60,
   "metadata": {
    "_uuid": "833279d91e4286065968237fb5f2a0c2dd4d246c"
   },
   "outputs": [],
   "source": [
    "embedding_layer = Embedding(vocab_size, W2V_SIZE, weights=[embedding_matrix], input_length=SEQUENCE_LENGTH, trainable=False)"
   ]
  },
  {
   "cell_type": "markdown",
   "metadata": {
    "_uuid": "b299ef78f94c2085942c993a2d58753a7476305a"
   },
   "source": [
    "### Build Model"
   ]
  },
  {
   "cell_type": "code",
   "execution_count": 61,
   "metadata": {
    "_uuid": "e775ef4f1b74e6412457181383c39f2df554ef3f"
   },
   "outputs": [
    {
     "name": "stdout",
     "output_type": "stream",
     "text": [
      "WARNING:tensorflow:Layer lstm will not use cuDNN kernel since it doesn't meet the cuDNN kernel criteria. It will use generic GPU kernel as fallback when running on GPU\n"
     ]
    },
    {
     "name": "stderr",
     "output_type": "stream",
     "text": [
      "2020-11-23 22:16:52,427 : WARNING : Layer lstm will not use cuDNN kernel since it doesn't meet the cuDNN kernel criteria. It will use generic GPU kernel as fallback when running on GPU\n"
     ]
    },
    {
     "name": "stdout",
     "output_type": "stream",
     "text": [
      "Model: \"sequential\"\n",
      "_________________________________________________________________\n",
      "Layer (type)                 Output Shape              Param #   \n",
      "=================================================================\n",
      "embedding_1 (Embedding)      (None, 300, 300)          828600    \n",
      "_________________________________________________________________\n",
      "dropout (Dropout)            (None, 300, 300)          0         \n",
      "_________________________________________________________________\n",
      "lstm (LSTM)                  (None, 100)               160400    \n",
      "_________________________________________________________________\n",
      "dense (Dense)                (None, 1)                 101       \n",
      "=================================================================\n",
      "Total params: 989,101\n",
      "Trainable params: 160,501\n",
      "Non-trainable params: 828,600\n",
      "_________________________________________________________________\n"
     ]
    }
   ],
   "source": [
    "model = Sequential()\n",
    "model.add(embedding_layer)\n",
    "model.add(Dropout(0.5))\n",
    "model.add(LSTM(100, dropout=0.2, recurrent_dropout=0.2))\n",
    "model.add(Dense(1, activation='sigmoid'))\n",
    "\n",
    "model.summary()"
   ]
  },
  {
   "cell_type": "markdown",
   "metadata": {
    "_uuid": "28d22eafd0c7d798dcf3d742bc92fb8577939e6c"
   },
   "source": [
    "### Compile model"
   ]
  },
  {
   "cell_type": "code",
   "execution_count": 62,
   "metadata": {
    "_uuid": "1331e08d590bb2aa2033706c8faca217afc0f1c3"
   },
   "outputs": [],
   "source": [
    "model.compile(loss='binary_crossentropy',\n",
    "              optimizer=\"adam\",\n",
    "              metrics=['accuracy'])"
   ]
  },
  {
   "cell_type": "markdown",
   "metadata": {
    "_uuid": "c7733127cb8b380e0c807268903bf4d03ef92542"
   },
   "source": [
    "### Callbacks"
   ]
  },
  {
   "cell_type": "code",
   "execution_count": 63,
   "metadata": {
    "_uuid": "a688df590386f5748da6fe00b01904fe6c71619e"
   },
   "outputs": [],
   "source": [
    "callbacks = [ ReduceLROnPlateau(monitor='val_loss', patience=5, cooldown=0),\n",
    "              EarlyStopping(monitor='val_acc', min_delta=1e-4, patience=5)]"
   ]
  },
  {
   "cell_type": "markdown",
   "metadata": {
    "_uuid": "8d0873633dd49179c8cae17377641b97d323ef3b"
   },
   "source": [
    "### Train"
   ]
  },
  {
   "cell_type": "code",
   "execution_count": 64,
   "metadata": {
    "_uuid": "2b659d390c6577dc5cdb6b6297934279b4e801d5"
   },
   "outputs": [
    {
     "name": "stdout",
     "output_type": "stream",
     "text": [
      "Epoch 1/8\n",
      "99/99 [==============================] - ETA: 0s - loss: -3.3006 - accuracy: 0.6763WARNING:tensorflow:Early stopping conditioned on metric `val_acc` which is not available. Available metrics are: loss,accuracy,val_loss,val_accuracy,lr\n"
     ]
    },
    {
     "name": "stderr",
     "output_type": "stream",
     "text": [
      "2020-11-23 22:18:58,676 : WARNING : Early stopping conditioned on metric `val_acc` which is not available. Available metrics are: loss,accuracy,val_loss,val_accuracy,lr\n"
     ]
    },
    {
     "name": "stdout",
     "output_type": "stream",
     "text": [
      "99/99 [==============================] - 123s 1s/step - loss: -3.3006 - accuracy: 0.6763 - val_loss: -4.7845 - val_accuracy: 0.6788\n",
      "Epoch 2/8\n",
      "99/99 [==============================] - ETA: 0s - loss: -6.6308 - accuracy: 0.6885WARNING:tensorflow:Early stopping conditioned on metric `val_acc` which is not available. Available metrics are: loss,accuracy,val_loss,val_accuracy,lr\n"
     ]
    },
    {
     "name": "stderr",
     "output_type": "stream",
     "text": [
      "2020-11-23 22:21:54,081 : WARNING : Early stopping conditioned on metric `val_acc` which is not available. Available metrics are: loss,accuracy,val_loss,val_accuracy,lr\n"
     ]
    },
    {
     "name": "stdout",
     "output_type": "stream",
     "text": [
      "99/99 [==============================] - 174s 2s/step - loss: -6.6308 - accuracy: 0.6885 - val_loss: -7.5115 - val_accuracy: 0.6970\n",
      "Epoch 3/8\n",
      "99/99 [==============================] - ETA: 0s - loss: -9.1483 - accuracy: 0.6932WARNING:tensorflow:Early stopping conditioned on metric `val_acc` which is not available. Available metrics are: loss,accuracy,val_loss,val_accuracy,lr\n"
     ]
    },
    {
     "name": "stderr",
     "output_type": "stream",
     "text": [
      "2020-11-23 22:24:55,843 : WARNING : Early stopping conditioned on metric `val_acc` which is not available. Available metrics are: loss,accuracy,val_loss,val_accuracy,lr\n"
     ]
    },
    {
     "name": "stdout",
     "output_type": "stream",
     "text": [
      "99/99 [==============================] - 180s 2s/step - loss: -9.1483 - accuracy: 0.6932 - val_loss: -9.7728 - val_accuracy: 0.6970\n",
      "Epoch 4/8\n",
      "99/99 [==============================] - ETA: 0s - loss: -11.4713 - accuracy: 0.6922WARNING:tensorflow:Early stopping conditioned on metric `val_acc` which is not available. Available metrics are: loss,accuracy,val_loss,val_accuracy,lr\n"
     ]
    },
    {
     "name": "stderr",
     "output_type": "stream",
     "text": [
      "2020-11-23 22:27:05,198 : WARNING : Early stopping conditioned on metric `val_acc` which is not available. Available metrics are: loss,accuracy,val_loss,val_accuracy,lr\n"
     ]
    },
    {
     "name": "stdout",
     "output_type": "stream",
     "text": [
      "99/99 [==============================] - 127s 1s/step - loss: -11.4713 - accuracy: 0.6922 - val_loss: -11.9229 - val_accuracy: 0.6970\n",
      "Epoch 5/8\n",
      "99/99 [==============================] - ETA: 0s - loss: -13.7826 - accuracy: 0.6935WARNING:tensorflow:Early stopping conditioned on metric `val_acc` which is not available. Available metrics are: loss,accuracy,val_loss,val_accuracy,lr\n"
     ]
    },
    {
     "name": "stderr",
     "output_type": "stream",
     "text": [
      "2020-11-23 22:28:53,099 : WARNING : Early stopping conditioned on metric `val_acc` which is not available. Available metrics are: loss,accuracy,val_loss,val_accuracy,lr\n"
     ]
    },
    {
     "name": "stdout",
     "output_type": "stream",
     "text": [
      "99/99 [==============================] - 107s 1s/step - loss: -13.7826 - accuracy: 0.6935 - val_loss: -14.1607 - val_accuracy: 0.6970\n",
      "Epoch 6/8\n",
      "99/99 [==============================] - ETA: 0s - loss: -16.0795 - accuracy: 0.6935WARNING:tensorflow:Early stopping conditioned on metric `val_acc` which is not available. Available metrics are: loss,accuracy,val_loss,val_accuracy,lr\n"
     ]
    },
    {
     "name": "stderr",
     "output_type": "stream",
     "text": [
      "2020-11-23 22:30:36,456 : WARNING : Early stopping conditioned on metric `val_acc` which is not available. Available metrics are: loss,accuracy,val_loss,val_accuracy,lr\n"
     ]
    },
    {
     "name": "stdout",
     "output_type": "stream",
     "text": [
      "99/99 [==============================] - 102s 1s/step - loss: -16.0795 - accuracy: 0.6935 - val_loss: -16.3064 - val_accuracy: 0.6970\n",
      "Epoch 7/8\n",
      "99/99 [==============================] - ETA: 0s - loss: -18.3411 - accuracy: 0.6929WARNING:tensorflow:Early stopping conditioned on metric `val_acc` which is not available. Available metrics are: loss,accuracy,val_loss,val_accuracy,lr\n"
     ]
    },
    {
     "name": "stderr",
     "output_type": "stream",
     "text": [
      "2020-11-23 22:32:17,811 : WARNING : Early stopping conditioned on metric `val_acc` which is not available. Available metrics are: loss,accuracy,val_loss,val_accuracy,lr\n"
     ]
    },
    {
     "name": "stdout",
     "output_type": "stream",
     "text": [
      "99/99 [==============================] - 100s 1s/step - loss: -18.3411 - accuracy: 0.6929 - val_loss: -18.4646 - val_accuracy: 0.6970\n",
      "Epoch 8/8\n",
      "99/99 [==============================] - ETA: 0s - loss: -20.6066 - accuracy: 0.6935WARNING:tensorflow:Early stopping conditioned on metric `val_acc` which is not available. Available metrics are: loss,accuracy,val_loss,val_accuracy,lr\n"
     ]
    },
    {
     "name": "stderr",
     "output_type": "stream",
     "text": [
      "2020-11-23 22:34:01,324 : WARNING : Early stopping conditioned on metric `val_acc` which is not available. Available metrics are: loss,accuracy,val_loss,val_accuracy,lr\n"
     ]
    },
    {
     "name": "stdout",
     "output_type": "stream",
     "text": [
      "99/99 [==============================] - 102s 1s/step - loss: -20.6066 - accuracy: 0.6935 - val_loss: -20.5455 - val_accuracy: 0.6970\n",
      "Wall time: 17min 8s\n"
     ]
    }
   ],
   "source": [
    "%%time\n",
    "history = model.fit(x_train, y_train,\n",
    "                    batch_size=BATCH_SIZE,\n",
    "                    epochs=EPOCHS,\n",
    "                    validation_split=0.1,\n",
    "                    verbose=1,\n",
    "                    callbacks=callbacks)"
   ]
  },
  {
   "cell_type": "markdown",
   "metadata": {
    "_uuid": "267258196d96796ac69a7b8c466314bcf5d6ee42"
   },
   "source": [
    "### Evaluate"
   ]
  },
  {
   "cell_type": "code",
   "execution_count": 65,
   "metadata": {
    "_uuid": "98ecd8f1b8b74594c3ea775dd68a094e92458022"
   },
   "outputs": [
    {
     "name": "stdout",
     "output_type": "stream",
     "text": [
      "28/28 [==============================] - 2s 65ms/step - loss: -19.8799 - accuracy: 0.6933\n",
      "\n",
      "ACCURACY: 0.6933333277702332\n",
      "LOSS: -19.87989616394043\n",
      "Wall time: 3.56 s\n"
     ]
    }
   ],
   "source": [
    "%%time\n",
    "score = model.evaluate(x_test, y_test, batch_size=BATCH_SIZE)\n",
    "print()\n",
    "print(\"ACCURACY:\",score[1])\n",
    "print(\"LOSS:\",score[0])"
   ]
  },
  {
   "cell_type": "code",
   "execution_count": 72,
   "metadata": {},
   "outputs": [
    {
     "name": "stdout",
     "output_type": "stream",
     "text": [
      "dict_keys(['loss', 'accuracy', 'val_loss', 'val_accuracy', 'lr'])\n"
     ]
    }
   ],
   "source": [
    "history_dict = history.history\n",
    "print(history_dict.keys())"
   ]
  },
  {
   "cell_type": "code",
   "execution_count": 73,
   "metadata": {
    "_uuid": "40c72cd1e9d6c4fd799cbba7c813765ac4039dfc"
   },
   "outputs": [
    {
     "data": {
      "image/png": "[encoded data removed]",
      "text/plain": [
       "<Figure size 432x288 with 1 Axes>"
      ]
     },
     "metadata": {
      "needs_background": "light"
     },
     "output_type": "display_data"
    },
    {
     "data": {
      "image/png": "[encoded data removed]",
      "text/plain": [
       "<Figure size 432x288 with 1 Axes>"
      ]
     },
     "metadata": {
      "needs_background": "light"
     },
     "output_type": "display_data"
    }
   ],
   "source": [
    "acc = history.history['accuracy']\n",
    "val_acc = history.history['val_accuracy']\n",
    "loss = history.history['loss']\n",
    "val_loss = history.history['val_loss']\n",
    " \n",
    "epochs = range(len(acc))\n",
    " \n",
    "plt.plot(epochs, acc, 'b', label='Training acc')\n",
    "plt.plot(epochs, val_acc, 'r', label='Validation acc')\n",
    "plt.title('Training and validation accuracy')\n",
    "plt.legend()\n",
    " \n",
    "plt.figure()\n",
    " \n",
    "plt.plot(epochs, loss, 'b', label='Training loss')\n",
    "plt.plot(epochs, val_loss, 'r', label='Validation loss')\n",
    "plt.title('Training and validation loss')\n",
    "plt.legend()\n",
    " \n",
    "plt.show()"
   ]
  },
  {
   "cell_type": "markdown",
   "metadata": {
    "_uuid": "6bdfc0f6a6af5bebc0271d83dd7432c91001409b"
   },
   "source": [
    "### Predict"
   ]
  },
  {
   "cell_type": "code",
   "execution_count": 86,
   "metadata": {
    "_uuid": "f0b0fa3d4b1bb14b3f5e3d169a369f3ebef29ae1"
   },
   "outputs": [],
   "source": [
    "def decode_sentiment(score, include_neutral=True ):\n",
    "    if include_neutral:        \n",
    "        label = \"Neutral\"\n",
    "        if score <= SENTIMENT_THRESHOLDS[0]:\n",
    "            label = \"Negative\"\n",
    "        elif score >= SENTIMENT_THRESHOLDS[1]:\n",
    "            label = \"Positive\"\n",
    "\n",
    "        return label\n",
    "    else:\n",
    "        return \"Negative\" if score < 0.5 else \"Positive\""
   ]
  },
  {
   "cell_type": "code",
   "execution_count": 87,
   "metadata": {
    "_uuid": "ed4086d651f2f8cbed11d3c909a8873607d29a06"
   },
   "outputs": [],
   "source": [
    "def predict(text, include_neutral=True):\n",
    "    start_at = time.time()\n",
    "    # Tokenize text\n",
    "    x_test = pad_sequences(tokenizer.texts_to_sequences([text]), maxlen=SEQUENCE_LENGTH)\n",
    "    # Predict\n",
    "    score = model.predict([x_test])[0]\n",
    "    # Decode sentiment\n",
    "    label = decode_sentiment(score, include_neutral=include_neutral)\n",
    "\n",
    "    return {\"label\": label, \"score\": float(score),\n",
    "       \"elapsed_time\": time.time()-start_at}  "
   ]
  },
  {
   "cell_type": "code",
   "execution_count": 88,
   "metadata": {
    "_uuid": "ca38b1e6c9b5acfed7467de2cf02a78333108872"
   },
   "outputs": [
    {
     "data": {
      "text/plain": [
       "{'label': 'Positive', 'score': 1.0, 'elapsed_time': 1.3277308940887451}"
      ]
     },
     "execution_count": 88,
     "metadata": {},
     "output_type": "execute_result"
    }
   ],
   "source": [
    "predict(\"I love the music\")"
   ]
  },
  {
   "cell_type": "code",
   "execution_count": 89,
   "metadata": {
    "_uuid": "0e5fe647533be0148850de349fea6ef6f71303d1"
   },
   "outputs": [
    {
     "data": {
      "text/plain": [
       "{'label': 'Positive', 'score': 1.0, 'elapsed_time': 0.09399867057800293}"
      ]
     },
     "execution_count": 89,
     "metadata": {},
     "output_type": "execute_result"
    }
   ],
   "source": [
    "predict(\"mirzapur is worst series i have ever seen\")"
   ]
  },
  {
   "cell_type": "code",
   "execution_count": 90,
   "metadata": {
    "_uuid": "37064dffcc8920d34ccd54fac7c8b50e583a8269"
   },
   "outputs": [
    {
     "data": {
      "text/plain": [
       "{'label': 'Positive', 'score': 1.0, 'elapsed_time': 0.09399843215942383}"
      ]
     },
     "execution_count": 90,
     "metadata": {},
     "output_type": "execute_result"
    }
   ],
   "source": [
    "predict(\"i don't know what i'm doing\")"
   ]
  },
  {
   "cell_type": "markdown",
   "metadata": {
    "_uuid": "3ee72e47f84b6dbc32e02a783de5ec1661f157e1"
   },
   "source": [
    "### Confusion Matrix"
   ]
  },
  {
   "cell_type": "code",
   "execution_count": 91,
   "metadata": {
    "_uuid": "0e920173eb05f04aecdd735bc5dff0f5be5f8d15"
   },
   "outputs": [
    {
     "name": "stdout",
     "output_type": "stream",
     "text": [
      "1/1 [==============================] - 0s 140ms/step\n",
      "Wall time: 433 ms\n"
     ]
    }
   ],
   "source": [
    "%%time\n",
    "y_pred_1d = []\n",
    "y_test_1d = list(df_test.target)\n",
    "scores = model.predict(x_test, verbose=1, batch_size=8000)\n",
    "y_pred_1d = [decode_sentiment(score, include_neutral=False) for score in scores]"
   ]
  },
  {
   "cell_type": "code",
   "execution_count": 92,
   "metadata": {
    "_uuid": "b3575191bb425ab871f3f41e83812ee84bb7e595"
   },
   "outputs": [],
   "source": [
    "def plot_confusion_matrix(cm, classes,\n",
    "                          title='Confusion matrix',\n",
    "                          cmap=plt.cm.Blues):\n",
    "    \"\"\"\n",
    "    This function prints and plots the confusion matrix.\n",
    "    Normalization can be applied by setting `normalize=True`.\n",
    "    \"\"\"\n",
    "\n",
    "    cm = cm.astype('float') / cm.sum(axis=1)[:, np.newaxis]\n",
    "\n",
    "    plt.imshow(cm, interpolation='nearest', cmap=cmap)\n",
    "    plt.title(title, fontsize=30)\n",
    "    plt.colorbar()\n",
    "    tick_marks = np.arange(len(classes))\n",
    "    plt.xticks(tick_marks, classes, rotation=90, fontsize=22)\n",
    "    plt.yticks(tick_marks, classes, fontsize=22)\n",
    "\n",
    "    fmt = '.2f'\n",
    "    thresh = cm.max() / 2.\n",
    "    for i, j in itertools.product(range(cm.shape[0]), range(cm.shape[1])):\n",
    "        plt.text(j, i, format(cm[i, j], fmt),\n",
    "                 horizontalalignment=\"center\",\n",
    "                 color=\"white\" if cm[i, j] > thresh else \"black\")\n",
    "\n",
    "    plt.ylabel('True label', fontsize=25)\n",
    "    plt.xlabel('Predicted label', fontsize=25)"
   ]
  },
  {
   "cell_type": "code",
   "execution_count": 93,
   "metadata": {
    "_uuid": "a57dc6f6211c144491a70f533225edfa95a2dc66"
   },
   "outputs": [
    {
     "data": {
      "image/png": "[encoded data removed]",
      "text/plain": [
       "<Figure size 864x864 with 2 Axes>"
      ]
     },
     "metadata": {
      "needs_background": "light"
     },
     "output_type": "display_data"
    },
    {
     "name": "stdout",
     "output_type": "stream",
     "text": [
      "Wall time: 218 ms\n"
     ]
    }
   ],
   "source": [
    "%%time\n",
    "\n",
    "cnf_matrix = confusion_matrix(y_test_1d, y_pred_1d)\n",
    "plt.figure(figsize=(12,12))\n",
    "plot_confusion_matrix(cnf_matrix, classes=df_train.target.unique(), title=\"Confusion matrix\")\n",
    "plt.show()"
   ]
  },
  {
   "cell_type": "markdown",
   "metadata": {
    "_uuid": "e23b957348dcc084249d3cc7538b972da471c2cd"
   },
   "source": [
    "### Classification Report"
   ]
  },
  {
   "cell_type": "code",
   "execution_count": 94,
   "metadata": {
    "_uuid": "a7fe05b7caa1c984ff1deb0be2f7c6bc043df9f5"
   },
   "outputs": [
    {
     "name": "stdout",
     "output_type": "stream",
     "text": [
      "              precision    recall  f1-score   support\n",
      "\n",
      "    Negative       1.00      0.81      0.89       190\n",
      "     Neutral       0.00      0.00      0.00       419\n",
      "    Positive       0.32      1.00      0.49       216\n",
      "\n",
      "    accuracy                           0.45       825\n",
      "   macro avg       0.44      0.60      0.46       825\n",
      "weighted avg       0.31      0.45      0.33       825\n",
      "\n"
     ]
    },
    {
     "name": "stderr",
     "output_type": "stream",
     "text": [
      "C:\\Users\\sm185567\\AppData\\Local\\Continuum\\anaconda3\\envs\\gpu-user\\lib\\site-packages\\sklearn\\metrics\\_classification.py:1221: UndefinedMetricWarning: Precision and F-score are ill-defined and being set to 0.0 in labels with no predicted samples. Use `zero_division` parameter to control this behavior.\n",
      "  _warn_prf(average, modifier, msg_start, len(result))\n"
     ]
    }
   ],
   "source": [
    "print(classification_report(y_test_1d, y_pred_1d))"
   ]
  },
  {
   "cell_type": "markdown",
   "metadata": {
    "_uuid": "4eb300f0c6693a618587c7dcf32f77f5416cbfb9"
   },
   "source": [
    "### Accuracy Score"
   ]
  },
  {
   "cell_type": "code",
   "execution_count": 95,
   "metadata": {
    "_uuid": "5cf76e6e09f8a60ed25947932b94c772eda44d23"
   },
   "outputs": [
    {
     "data": {
      "text/plain": [
       "0.44727272727272727"
      ]
     },
     "execution_count": 95,
     "metadata": {},
     "output_type": "execute_result"
    }
   ],
   "source": [
    "accuracy_score(y_test_1d, y_pred_1d)"
   ]
  },
  {
   "cell_type": "code",
   "execution_count": 101,
   "metadata": {},
   "outputs": [
    {
     "name": "stdout",
     "output_type": "stream",
     "text": [
      "Positive =====> Positive\n",
      "Neutral =====> Positive\n",
      "Neutral =====> Positive\n",
      "Positive =====> Positive\n",
      "Positive =====> Positive\n",
      "Negative =====> Positive\n",
      "Negative =====> Negative\n",
      "Neutral =====> Positive\n",
      "Positive =====> Positive\n",
      "Negative =====> Positive\n",
      "Negative =====> Negative\n",
      "Positive =====> Positive\n",
      "Positive =====> Positive\n",
      "Neutral =====> Positive\n",
      "Neutral =====> Positive\n",
      "Positive =====> Positive\n",
      "Negative =====> Negative\n",
      "Positive =====> Positive\n",
      "Neutral =====> Positive\n",
      "Neutral =====> Positive\n",
      "Neutral =====> Positive\n",
      "Neutral =====> Positive\n",
      "Positive =====> Positive\n",
      "Neutral =====> Positive\n",
      "Negative =====> Negative\n",
      "Neutral =====> Positive\n",
      "Negative =====> Negative\n",
      "Negative =====> Negative\n",
      "Neutral =====> Positive\n",
      "Negative =====> Negative\n",
      "Positive =====> Positive\n",
      "Neutral =====> Positive\n",
      "Positive =====> Positive\n",
      "Neutral =====> Positive\n",
      "Negative =====> Negative\n",
      "Positive =====> Positive\n",
      "Neutral =====> Positive\n",
      "Neutral =====> Positive\n",
      "Neutral =====> Positive\n",
      "Neutral =====> Positive\n",
      "Neutral =====> Positive\n",
      "Negative =====> Positive\n",
      "Negative =====> Positive\n",
      "Neutral =====> Positive\n",
      "Neutral =====> Positive\n",
      "Negative =====> Negative\n",
      "Negative =====> Negative\n",
      "Positive =====> Positive\n",
      "Neutral =====> Positive\n",
      "Positive =====> Positive\n",
      "Neutral =====> Positive\n",
      "Neutral =====> Positive\n",
      "Neutral =====> Positive\n",
      "Positive =====> Positive\n",
      "Neutral =====> Positive\n",
      "Neutral =====> Positive\n",
      "Positive =====> Positive\n",
      "Positive =====> Positive\n",
      "Positive =====> Positive\n",
      "Negative =====> Negative\n",
      "Positive =====> Positive\n",
      "Neutral =====> Positive\n",
      "Positive =====> Positive\n",
      "Neutral =====> Positive\n",
      "Negative =====> Positive\n",
      "Neutral =====> Positive\n",
      "Neutral =====> Positive\n",
      "Positive =====> Positive\n",
      "Neutral =====> Positive\n",
      "Negative =====> Negative\n",
      "Neutral =====> Positive\n",
      "Neutral =====> Positive\n",
      "Positive =====> Positive\n",
      "Negative =====> Negative\n",
      "Neutral =====> Positive\n",
      "Positive =====> Positive\n",
      "Neutral =====> Positive\n",
      "Neutral =====> Positive\n",
      "Neutral =====> Positive\n",
      "Negative =====> Negative\n",
      "Negative =====> Negative\n",
      "Positive =====> Positive\n",
      "Neutral =====> Positive\n",
      "Neutral =====> Positive\n",
      "Positive =====> Positive\n",
      "Positive =====> Positive\n",
      "Negative =====> Negative\n",
      "Negative =====> Negative\n",
      "Negative =====> Negative\n",
      "Negative =====> Positive\n",
      "Negative =====> Negative\n",
      "Neutral =====> Positive\n",
      "Neutral =====> Positive\n",
      "Neutral =====> Positive\n",
      "Neutral =====> Positive\n",
      "Neutral =====> Positive\n",
      "Positive =====> Positive\n",
      "Negative =====> Negative\n",
      "Positive =====> Positive\n",
      "Negative =====> Positive\n",
      "Neutral =====> Positive\n",
      "Positive =====> Positive\n",
      "Neutral =====> Positive\n",
      "Neutral =====> Positive\n",
      "Positive =====> Positive\n",
      "Positive =====> Positive\n",
      "Neutral =====> Positive\n",
      "Neutral =====> Positive\n",
      "Negative =====> Positive\n",
      "Neutral =====> Positive\n",
      "Positive =====> Positive\n",
      "Neutral =====> Positive\n",
      "Neutral =====> Positive\n",
      "Positive =====> Positive\n",
      "Neutral =====> Positive\n",
      "Negative =====> Negative\n",
      "Neutral =====> Positive\n",
      "Neutral =====> Positive\n",
      "Neutral =====> Positive\n",
      "Negative =====> Negative\n",
      "Neutral =====> Positive\n",
      "Neutral =====> Positive\n",
      "Negative =====> Positive\n",
      "Neutral =====> Positive\n",
      "Positive =====> Positive\n",
      "Negative =====> Negative\n",
      "Positive =====> Positive\n",
      "Negative =====> Negative\n",
      "Negative =====> Positive\n",
      "Negative =====> Positive\n",
      "Neutral =====> Positive\n",
      "Positive =====> Positive\n",
      "Neutral =====> Positive\n",
      "Negative =====> Negative\n",
      "Negative =====> Negative\n",
      "Positive =====> Positive\n",
      "Positive =====> Positive\n",
      "Neutral =====> Positive\n",
      "Neutral =====> Positive\n",
      "Neutral =====> Positive\n",
      "Neutral =====> Positive\n",
      "Positive =====> Positive\n",
      "Positive =====> Positive\n",
      "Neutral =====> Positive\n",
      "Neutral =====> Positive\n",
      "Negative =====> Positive\n",
      "Negative =====> Positive\n",
      "Negative =====> Negative\n",
      "Neutral =====> Positive\n",
      "Neutral =====> Positive\n",
      "Neutral =====> Positive\n",
      "Positive =====> Positive\n",
      "Positive =====> Positive\n",
      "Positive =====> Positive\n",
      "Neutral =====> Positive\n",
      "Neutral =====> Positive\n",
      "Negative =====> Negative\n",
      "Neutral =====> Positive\n",
      "Neutral =====> Positive\n",
      "Positive =====> Positive\n",
      "Neutral =====> Positive\n",
      "Negative =====> Negative\n",
      "Positive =====> Positive\n",
      "Neutral =====> Positive\n",
      "Negative =====> Negative\n",
      "Neutral =====> Positive\n",
      "Neutral =====> Positive\n",
      "Positive =====> Positive\n",
      "Neutral =====> Positive\n",
      "Negative =====> Negative\n",
      "Positive =====> Positive\n",
      "Neutral =====> Positive\n",
      "Neutral =====> Positive\n",
      "Negative =====> Negative\n",
      "Neutral =====> Positive\n",
      "Neutral =====> Positive\n",
      "Positive =====> Positive\n",
      "Positive =====> Positive\n",
      "Negative =====> Positive\n",
      "Neutral =====> Positive\n",
      "Negative =====> Positive\n",
      "Negative =====> Negative\n",
      "Positive =====> Positive\n",
      "Positive =====> Positive\n",
      "Positive =====> Positive\n",
      "Negative =====> Positive\n",
      "Neutral =====> Positive\n",
      "Positive =====> Positive\n",
      "Positive =====> Positive\n",
      "Negative =====> Negative\n",
      "Neutral =====> Positive\n",
      "Negative =====> Positive\n",
      "Negative =====> Negative\n",
      "Positive =====> Positive\n",
      "Neutral =====> Positive\n",
      "Positive =====> Positive\n",
      "Neutral =====> Positive\n",
      "Neutral =====> Positive\n",
      "Neutral =====> Positive\n",
      "Neutral =====> Positive\n",
      "Neutral =====> Positive\n",
      "Neutral =====> Positive\n",
      "Positive =====> Positive\n",
      "Negative =====> Negative\n",
      "Neutral =====> Positive\n",
      "Negative =====> Negative\n",
      "Negative =====> Negative\n",
      "Negative =====> Negative\n",
      "Neutral =====> Positive\n",
      "Neutral =====> Positive\n",
      "Neutral =====> Positive\n",
      "Neutral =====> Positive\n",
      "Neutral =====> Positive\n",
      "Negative =====> Negative\n",
      "Positive =====> Positive\n",
      "Neutral =====> Positive\n",
      "Neutral =====> Positive\n",
      "Neutral =====> Positive\n",
      "Neutral =====> Positive\n",
      "Neutral =====> Positive\n",
      "Neutral =====> Positive\n",
      "Positive =====> Positive\n",
      "Neutral =====> Positive\n",
      "Negative =====> Negative\n",
      "Neutral =====> Positive\n",
      "Negative =====> Negative\n",
      "Neutral =====> Positive\n",
      "Neutral =====> Positive\n",
      "Neutral =====> Positive\n",
      "Positive =====> Positive\n",
      "Negative =====> Negative\n",
      "Positive =====> Positive\n",
      "Negative =====> Positive\n",
      "Neutral =====> Positive\n",
      "Positive =====> Positive\n",
      "Neutral =====> Positive\n",
      "Positive =====> Positive\n",
      "Neutral =====> Positive\n",
      "Neutral =====> Positive\n",
      "Neutral =====> Positive\n",
      "Negative =====> Negative\n",
      "Neutral =====> Positive\n",
      "Neutral =====> Positive\n",
      "Neutral =====> Positive\n",
      "Positive =====> Positive\n",
      "Neutral =====> Positive\n",
      "Neutral =====> Positive\n",
      "Positive =====> Positive\n",
      "Neutral =====> Positive\n",
      "Negative =====> Negative\n",
      "Neutral =====> Positive\n",
      "Neutral =====> Positive\n",
      "Negative =====> Negative\n",
      "Neutral =====> Positive\n",
      "Positive =====> Positive\n",
      "Neutral =====> Positive\n",
      "Neutral =====> Positive\n",
      "Positive =====> Positive\n",
      "Positive =====> Positive\n",
      "Negative =====> Negative\n",
      "Neutral =====> Positive\n",
      "Neutral =====> Positive\n",
      "Neutral =====> Positive\n",
      "Negative =====> Positive\n",
      "Negative =====> Negative\n",
      "Negative =====> Negative\n",
      "Neutral =====> Positive\n",
      "Negative =====> Negative\n",
      "Neutral =====> Positive\n",
      "Positive =====> Positive\n",
      "Neutral =====> Positive\n",
      "Negative =====> Positive\n",
      "Neutral =====> Positive\n",
      "Neutral =====> Positive\n",
      "Negative =====> Negative\n",
      "Neutral =====> Positive\n",
      "Neutral =====> Positive\n",
      "Positive =====> Positive\n",
      "Negative =====> Negative\n",
      "Negative =====> Negative\n",
      "Negative =====> Negative\n",
      "Negative =====> Negative\n",
      "Positive =====> Positive\n",
      "Positive =====> Positive\n",
      "Positive =====> Positive\n",
      "Neutral =====> Positive\n",
      "Positive =====> Positive\n",
      "Positive =====> Positive\n",
      "Negative =====> Negative\n",
      "Negative =====> Negative\n",
      "Positive =====> Positive\n",
      "Neutral =====> Positive\n",
      "Negative =====> Negative\n",
      "Neutral =====> Positive\n",
      "Neutral =====> Positive\n",
      "Negative =====> Negative\n",
      "Positive =====> Positive\n",
      "Positive =====> Positive\n",
      "Neutral =====> Positive\n",
      "Neutral =====> Positive\n",
      "Neutral =====> Positive\n",
      "Neutral =====> Positive\n",
      "Positive =====> Positive\n",
      "Neutral =====> Positive\n",
      "Neutral =====> Positive\n",
      "Neutral =====> Positive\n",
      "Positive =====> Positive\n",
      "Positive =====> Positive\n",
      "Positive =====> Positive\n",
      "Neutral =====> Positive\n",
      "Positive =====> Positive\n",
      "Neutral =====> Positive\n",
      "Negative =====> Negative\n",
      "Positive =====> Positive\n",
      "Negative =====> Negative\n",
      "Positive =====> Positive\n",
      "Positive =====> Positive\n",
      "Negative =====> Negative\n",
      "Positive =====> Positive\n",
      "Positive =====> Positive\n",
      "Positive =====> Positive\n",
      "Neutral =====> Positive\n",
      "Neutral =====> Positive\n",
      "Neutral =====> Positive\n",
      "Positive =====> Positive\n",
      "Positive =====> Positive\n",
      "Neutral =====> Positive\n",
      "Positive =====> Positive\n",
      "Positive =====> Positive\n",
      "Neutral =====> Positive\n",
      "Positive =====> Positive\n",
      "Positive =====> Positive\n",
      "Neutral =====> Positive\n",
      "Positive =====> Positive\n",
      "Positive =====> Positive\n",
      "Negative =====> Negative\n",
      "Neutral =====> Positive\n",
      "Negative =====> Negative\n",
      "Neutral =====> Positive\n",
      "Negative =====> Negative\n",
      "Neutral =====> Positive\n",
      "Negative =====> Negative\n",
      "Neutral =====> Positive\n",
      "Positive =====> Positive\n",
      "Neutral =====> Positive\n",
      "Neutral =====> Positive\n",
      "Neutral =====> Positive\n",
      "Neutral =====> Positive\n",
      "Positive =====> Positive\n",
      "Negative =====> Positive\n",
      "Neutral =====> Positive\n",
      "Positive =====> Positive\n",
      "Neutral =====> Positive\n",
      "Positive =====> Positive\n",
      "Neutral =====> Positive\n",
      "Neutral =====> Positive\n",
      "Neutral =====> Positive\n",
      "Positive =====> Positive\n",
      "Neutral =====> Positive\n",
      "Positive =====> Positive\n",
      "Neutral =====> Positive\n",
      "Negative =====> Negative\n",
      "Neutral =====> Positive\n",
      "Neutral =====> Positive\n",
      "Neutral =====> Positive\n",
      "Neutral =====> Positive\n",
      "Positive =====> Positive\n",
      "Neutral =====> Positive\n",
      "Negative =====> Negative\n",
      "Neutral =====> Positive\n",
      "Positive =====> Positive\n",
      "Neutral =====> Positive\n",
      "Neutral =====> Positive\n",
      "Neutral =====> Positive\n",
      "Neutral =====> Positive\n",
      "Positive =====> Positive\n",
      "Neutral =====> Positive\n",
      "Negative =====> Negative\n",
      "Neutral =====> Positive\n",
      "Negative =====> Negative\n",
      "Neutral =====> Positive\n",
      "Positive =====> Positive\n",
      "Neutral =====> Positive\n",
      "Neutral =====> Positive\n",
      "Neutral =====> Positive\n",
      "Neutral =====> Positive\n",
      "Positive =====> Positive\n",
      "Neutral =====> Positive\n",
      "Positive =====> Positive\n",
      "Neutral =====> Positive\n",
      "Positive =====> Positive\n",
      "Neutral =====> Positive\n",
      "Positive =====> Positive\n",
      "Neutral =====> Positive\n",
      "Positive =====> Positive\n",
      "Positive =====> Positive\n",
      "Negative =====> Negative\n",
      "Positive =====> Positive\n",
      "Positive =====> Positive\n",
      "Negative =====> Negative\n",
      "Negative =====> Negative\n",
      "Neutral =====> Positive\n",
      "Neutral =====> Positive\n",
      "Positive =====> Positive\n",
      "Positive =====> Positive\n",
      "Neutral =====> Positive\n",
      "Neutral =====> Positive\n",
      "Positive =====> Positive\n",
      "Positive =====> Positive\n",
      "Neutral =====> Positive\n",
      "Negative =====> Negative\n",
      "Positive =====> Positive\n",
      "Neutral =====> Positive\n",
      "Positive =====> Positive\n",
      "Negative =====> Negative\n",
      "Negative =====> Negative\n",
      "Negative =====> Negative\n",
      "Neutral =====> Positive\n",
      "Neutral =====> Positive\n",
      "Neutral =====> Positive\n",
      "Positive =====> Positive\n",
      "Positive =====> Positive\n",
      "Positive =====> Positive\n",
      "Negative =====> Negative\n",
      "Negative =====> Negative\n",
      "Neutral =====> Positive\n",
      "Neutral =====> Positive\n",
      "Positive =====> Positive\n",
      "Neutral =====> Positive\n",
      "Positive =====> Positive\n",
      "Neutral =====> Positive\n",
      "Positive =====> Positive\n",
      "Negative =====> Negative\n",
      "Negative =====> Negative\n",
      "Neutral =====> Positive\n",
      "Neutral =====> Positive\n",
      "Neutral =====> Positive\n",
      "Neutral =====> Positive\n",
      "Positive =====> Positive\n",
      "Neutral =====> Positive\n",
      "Neutral =====> Positive\n",
      "Neutral =====> Positive\n",
      "Positive =====> Positive\n",
      "Neutral =====> Positive\n",
      "Neutral =====> Positive\n",
      "Neutral =====> Positive\n",
      "Negative =====> Positive\n",
      "Negative =====> Negative\n",
      "Neutral =====> Positive\n",
      "Neutral =====> Positive\n",
      "Neutral =====> Positive\n",
      "Neutral =====> Positive\n",
      "Neutral =====> Positive\n",
      "Neutral =====> Positive\n",
      "Negative =====> Negative\n",
      "Neutral =====> Positive\n",
      "Neutral =====> Positive\n",
      "Positive =====> Positive\n",
      "Positive =====> Positive\n",
      "Neutral =====> Positive\n",
      "Negative =====> Negative\n",
      "Positive =====> Positive\n",
      "Neutral =====> Positive\n",
      "Negative =====> Negative\n",
      "Neutral =====> Positive\n",
      "Neutral =====> Positive\n",
      "Negative =====> Negative\n",
      "Positive =====> Positive\n",
      "Neutral =====> Positive\n",
      "Neutral =====> Positive\n",
      "Neutral =====> Positive\n",
      "Negative =====> Negative\n",
      "Neutral =====> Positive\n",
      "Neutral =====> Positive\n",
      "Neutral =====> Positive\n",
      "Positive =====> Positive\n",
      "Positive =====> Positive\n",
      "Neutral =====> Positive\n",
      "Neutral =====> Positive\n",
      "Positive =====> Positive\n",
      "Negative =====> Negative\n",
      "Positive =====> Positive\n",
      "Positive =====> Positive\n",
      "Neutral =====> Positive\n",
      "Positive =====> Positive\n",
      "Negative =====> Negative\n",
      "Positive =====> Positive\n",
      "Positive =====> Positive\n",
      "Positive =====> Positive\n",
      "Negative =====> Negative\n",
      "Neutral =====> Positive\n",
      "Negative =====> Negative\n",
      "Neutral =====> Positive\n",
      "Neutral =====> Positive\n",
      "Neutral =====> Positive\n",
      "Negative =====> Positive\n",
      "Positive =====> Positive\n",
      "Positive =====> Positive\n",
      "Neutral =====> Positive\n",
      "Negative =====> Negative\n",
      "Negative =====> Negative\n",
      "Neutral =====> Positive\n",
      "Positive =====> Positive\n",
      "Positive =====> Positive\n",
      "Neutral =====> Positive\n",
      "Positive =====> Positive\n",
      "Neutral =====> Positive\n",
      "Positive =====> Positive\n",
      "Positive =====> Positive\n",
      "Neutral =====> Positive\n",
      "Negative =====> Positive\n",
      "Positive =====> Positive\n",
      "Negative =====> Negative\n",
      "Neutral =====> Positive\n",
      "Negative =====> Negative\n",
      "Neutral =====> Positive\n",
      "Positive =====> Positive\n",
      "Neutral =====> Positive\n",
      "Neutral =====> Positive\n",
      "Positive =====> Positive\n",
      "Negative =====> Negative\n",
      "Neutral =====> Positive\n",
      "Neutral =====> Positive\n",
      "Positive =====> Positive\n",
      "Positive =====> Positive\n",
      "Neutral =====> Positive\n",
      "Positive =====> Positive\n",
      "Positive =====> Positive\n",
      "Neutral =====> Positive\n",
      "Neutral =====> Positive\n",
      "Negative =====> Negative\n",
      "Positive =====> Positive\n",
      "Negative =====> Negative\n",
      "Negative =====> Negative\n",
      "Positive =====> Positive\n",
      "Positive =====> Positive\n",
      "Neutral =====> Positive\n",
      "Neutral =====> Positive\n",
      "Negative =====> Negative\n",
      "Positive =====> Positive\n",
      "Neutral =====> Positive\n",
      "Neutral =====> Positive\n",
      "Neutral =====> Positive\n",
      "Neutral =====> Positive\n",
      "Positive =====> Positive\n",
      "Neutral =====> Positive\n",
      "Negative =====> Positive\n",
      "Positive =====> Positive\n",
      "Neutral =====> Positive\n",
      "Negative =====> Positive\n",
      "Neutral =====> Positive\n",
      "Neutral =====> Positive\n",
      "Positive =====> Positive\n",
      "Neutral =====> Positive\n",
      "Neutral =====> Positive\n",
      "Positive =====> Positive\n",
      "Neutral =====> Positive\n",
      "Neutral =====> Positive\n",
      "Negative =====> Positive\n",
      "Negative =====> Negative\n",
      "Negative =====> Positive\n",
      "Neutral =====> Positive\n",
      "Neutral =====> Positive\n",
      "Neutral =====> Positive\n",
      "Neutral =====> Positive\n",
      "Negative =====> Negative\n",
      "Negative =====> Negative\n",
      "Negative =====> Negative\n",
      "Negative =====> Positive\n",
      "Neutral =====> Positive\n",
      "Neutral =====> Positive\n",
      "Positive =====> Positive\n",
      "Positive =====> Positive\n",
      "Positive =====> Positive\n",
      "Neutral =====> Positive\n",
      "Neutral =====> Positive\n",
      "Neutral =====> Positive\n",
      "Neutral =====> Positive\n",
      "Positive =====> Positive\n",
      "Neutral =====> Positive\n",
      "Neutral =====> Positive\n",
      "Neutral =====> Positive\n",
      "Neutral =====> Positive\n",
      "Negative =====> Positive\n",
      "Neutral =====> Positive\n",
      "Neutral =====> Positive\n",
      "Positive =====> Positive\n",
      "Negative =====> Negative\n",
      "Positive =====> Positive\n",
      "Negative =====> Negative\n",
      "Neutral =====> Positive\n",
      "Neutral =====> Positive\n",
      "Positive =====> Positive\n",
      "Negative =====> Negative\n",
      "Neutral =====> Positive\n",
      "Neutral =====> Positive\n",
      "Neutral =====> Positive\n",
      "Neutral =====> Positive\n",
      "Negative =====> Negative\n",
      "Neutral =====> Positive\n",
      "Neutral =====> Positive\n",
      "Neutral =====> Positive\n",
      "Positive =====> Positive\n",
      "Positive =====> Positive\n",
      "Neutral =====> Positive\n",
      "Negative =====> Negative\n",
      "Negative =====> Negative\n",
      "Neutral =====> Positive\n",
      "Negative =====> Negative\n",
      "Negative =====> Negative\n",
      "Positive =====> Positive\n",
      "Neutral =====> Positive\n",
      "Positive =====> Positive\n",
      "Neutral =====> Positive\n",
      "Negative =====> Negative\n",
      "Negative =====> Positive\n",
      "Neutral =====> Positive\n",
      "Neutral =====> Positive\n",
      "Positive =====> Positive\n",
      "Neutral =====> Positive\n",
      "Neutral =====> Positive\n",
      "Neutral =====> Positive\n",
      "Positive =====> Positive\n",
      "Positive =====> Positive\n",
      "Negative =====> Positive\n",
      "Neutral =====> Positive\n",
      "Positive =====> Positive\n",
      "Neutral =====> Positive\n",
      "Neutral =====> Positive\n",
      "Negative =====> Negative\n",
      "Positive =====> Positive\n",
      "Neutral =====> Positive\n",
      "Neutral =====> Positive\n",
      "Neutral =====> Positive\n",
      "Neutral =====> Positive\n",
      "Negative =====> Negative\n",
      "Positive =====> Positive\n",
      "Neutral =====> Positive\n",
      "Negative =====> Positive\n",
      "Neutral =====> Positive\n",
      "Negative =====> Negative\n",
      "Positive =====> Positive\n",
      "Neutral =====> Positive\n",
      "Neutral =====> Positive\n",
      "Negative =====> Negative\n",
      "Neutral =====> Positive\n",
      "Neutral =====> Positive\n",
      "Negative =====> Positive\n",
      "Negative =====> Negative\n",
      "Positive =====> Positive\n",
      "Negative =====> Negative\n",
      "Negative =====> Negative\n",
      "Positive =====> Positive\n",
      "Neutral =====> Positive\n",
      "Neutral =====> Positive\n",
      "Neutral =====> Positive\n",
      "Neutral =====> Positive\n",
      "Neutral =====> Positive\n",
      "Neutral =====> Positive\n",
      "Positive =====> Positive\n",
      "Negative =====> Negative\n",
      "Positive =====> Positive\n",
      "Neutral =====> Positive\n",
      "Neutral =====> Positive\n",
      "Neutral =====> Positive\n",
      "Neutral =====> Positive\n",
      "Neutral =====> Positive\n",
      "Neutral =====> Positive\n",
      "Neutral =====> Positive\n",
      "Neutral =====> Positive\n",
      "Negative =====> Negative\n",
      "Negative =====> Negative\n",
      "Negative =====> Negative\n",
      "Negative =====> Negative\n",
      "Neutral =====> Positive\n",
      "Neutral =====> Positive\n",
      "Neutral =====> Positive\n",
      "Neutral =====> Positive\n",
      "Neutral =====> Positive\n",
      "Neutral =====> Positive\n",
      "Negative =====> Negative\n",
      "Neutral =====> Positive\n",
      "Neutral =====> Positive\n",
      "Neutral =====> Positive\n",
      "Positive =====> Positive\n",
      "Positive =====> Positive\n",
      "Neutral =====> Positive\n",
      "Neutral =====> Positive\n",
      "Positive =====> Positive\n",
      "Neutral =====> Positive\n",
      "Neutral =====> Positive\n",
      "Neutral =====> Positive\n",
      "Positive =====> Positive\n",
      "Negative =====> Negative\n",
      "Positive =====> Positive\n",
      "Neutral =====> Positive\n",
      "Negative =====> Negative\n",
      "Neutral =====> Positive\n",
      "Neutral =====> Positive\n",
      "Negative =====> Negative\n",
      "Positive =====> Positive\n",
      "Neutral =====> Positive\n",
      "Neutral =====> Positive\n",
      "Neutral =====> Positive\n",
      "Neutral =====> Positive\n",
      "Neutral =====> Positive\n",
      "Neutral =====> Positive\n",
      "Neutral =====> Positive\n",
      "Neutral =====> Positive\n",
      "Negative =====> Negative\n",
      "Positive =====> Positive\n",
      "Positive =====> Positive\n",
      "Negative =====> Negative\n",
      "Neutral =====> Positive\n",
      "Neutral =====> Positive\n",
      "Neutral =====> Positive\n",
      "Neutral =====> Positive\n",
      "Positive =====> Positive\n",
      "Neutral =====> Positive\n",
      "Neutral =====> Positive\n",
      "Neutral =====> Positive\n",
      "Neutral =====> Positive\n",
      "Neutral =====> Positive\n",
      "Neutral =====> Positive\n",
      "Positive =====> Positive\n",
      "Negative =====> Negative\n",
      "Neutral =====> Positive\n",
      "Neutral =====> Positive\n",
      "Neutral =====> Positive\n",
      "Neutral =====> Positive\n",
      "Neutral =====> Positive\n",
      "Positive =====> Positive\n",
      "Neutral =====> Positive\n",
      "Negative =====> Positive\n",
      "Neutral =====> Positive\n",
      "Neutral =====> Positive\n",
      "Neutral =====> Positive\n",
      "Negative =====> Negative\n",
      "Neutral =====> Positive\n",
      "Negative =====> Negative\n",
      "Positive =====> Positive\n",
      "Neutral =====> Positive\n",
      "Positive =====> Positive\n",
      "Negative =====> Negative\n",
      "Neutral =====> Positive\n",
      "Negative =====> Positive\n",
      "Negative =====> Negative\n",
      "Positive =====> Positive\n",
      "Neutral =====> Positive\n",
      "Negative =====> Negative\n",
      "Negative =====> Negative\n",
      "Neutral =====> Positive\n",
      "Positive =====> Positive\n",
      "Neutral =====> Positive\n",
      "Neutral =====> Positive\n",
      "Neutral =====> Positive\n",
      "Neutral =====> Positive\n",
      "Negative =====> Negative\n",
      "Neutral =====> Positive\n",
      "Neutral =====> Positive\n",
      "Positive =====> Positive\n",
      "Positive =====> Positive\n",
      "Positive =====> Positive\n",
      "Positive =====> Positive\n",
      "Negative =====> Negative\n",
      "Positive =====> Positive\n",
      "Neutral =====> Positive\n",
      "Positive =====> Positive\n",
      "Positive =====> Positive\n",
      "Negative =====> Negative\n",
      "Positive =====> Positive\n",
      "Neutral =====> Positive\n",
      "Neutral =====> Positive\n",
      "Neutral =====> Positive\n",
      "Neutral =====> Positive\n",
      "Positive =====> Positive\n",
      "Neutral =====> Positive\n",
      "Negative =====> Negative\n",
      "Neutral =====> Positive\n",
      "Neutral =====> Positive\n",
      "Negative =====> Negative\n",
      "Neutral =====> Positive\n",
      "Neutral =====> Positive\n",
      "Negative =====> Negative\n",
      "Neutral =====> Positive\n",
      "Neutral =====> Positive\n",
      "Negative =====> Negative\n",
      "Neutral =====> Positive\n",
      "Neutral =====> Positive\n",
      "Negative =====> Negative\n",
      "Neutral =====> Positive\n",
      "Positive =====> Positive\n",
      "Positive =====> Positive\n",
      "Neutral =====> Positive\n",
      "Neutral =====> Positive\n",
      "Neutral =====> Positive\n",
      "Neutral =====> Positive\n",
      "Neutral =====> Positive\n",
      "Negative =====> Negative\n",
      "Negative =====> Negative\n",
      "Neutral =====> Positive\n",
      "Negative =====> Negative\n",
      "Negative =====> Negative\n",
      "Neutral =====> Positive\n",
      "Positive =====> Positive\n",
      "Neutral =====> Positive\n",
      "Positive =====> Positive\n",
      "Neutral =====> Positive\n",
      "Negative =====> Negative\n",
      "Neutral =====> Positive\n",
      "Negative =====> Negative\n",
      "Neutral =====> Positive\n",
      "Neutral =====> Positive\n",
      "Neutral =====> Positive\n",
      "Negative =====> Positive\n",
      "Neutral =====> Positive\n",
      "Neutral =====> Positive\n",
      "Negative =====> Negative\n",
      "Neutral =====> Positive\n",
      "Positive =====> Positive\n",
      "Neutral =====> Positive\n",
      "Neutral =====> Positive\n",
      "Neutral =====> Positive\n",
      "Positive =====> Positive\n",
      "Neutral =====> Positive\n"
     ]
    }
   ],
   "source": [
    "for i,j in zip(y_test_1d,y_pred_1d):\n",
    "    print(i,\"=====>\",j)"
   ]
  },
  {
   "cell_type": "markdown",
   "metadata": {
    "_uuid": "4f014c32f3833db282e1a075c526604f34e3158c"
   },
   "source": [
    "### Save model"
   ]
  },
  {
   "cell_type": "code",
   "execution_count": null,
   "metadata": {
    "_uuid": "3b2b3ad5b592977b404acfa1c9ad303a62837255"
   },
   "outputs": [],
   "source": [
    "model.save(KERAS_MODEL)\n",
    "w2v_model.save(WORD2VEC_MODEL)\n",
    "pickle.dump(tokenizer, open(TOKENIZER_MODEL, \"wb\"), protocol=0)\n",
    "pickle.dump(encoder, open(ENCODER_MODEL, \"wb\"), protocol=0)"
   ]
  },
  {
   "cell_type": "code",
   "execution_count": null,
   "metadata": {
    "_uuid": "cc363c54782894757f5ea8820c6a170f2e16ef93"
   },
   "outputs": [],
   "source": []
  }
 ],
 "metadata": {
  "kernelspec": {
   "display_name": "Python 3.7.9 64-bit ('gpu-user')",
   "language": "python",
   "name": "python37964bitgpuusera8b288a3f47044b19dbed90c607c54b5"
  },
  "language_info": {
   "codemirror_mode": {
    "name": "ipython",
    "version": 3
   },
   "file_extension": ".py",
   "mimetype": "text/x-python",
   "name": "python",
   "nbconvert_exporter": "python",
   "pygments_lexer": "ipython3",
   "version": "3.7.9"
  }
 },
 "nbformat": 4,
 "nbformat_minor": 1
}
