{
 "cells": [
  {
   "cell_type": "code",
   "execution_count": 49,
   "metadata": {},
   "outputs": [],
   "source": [
    "import numpy as np # linear algebra\n",
    "import pandas as pd # data processing, CSV file I/O (e.g. pd.read_csv)\n",
    "import os\n",
    "import re\n",
    "import spacy\n",
    "from tqdm import tqdm\n",
    "#nlp = spacy.load('en_core_web_lg', parse=True, tag=True, entity=True)\n",
    "#nlp = spacy.load('en_core_web_sm',parse=True, tag=True, entity=True)\n",
    "nlp = spacy.load('en')\n",
    "import nltk\n",
    "from textblob import TextBlob"
   ]
  },
  {
   "cell_type": "code",
   "execution_count": 50,
   "metadata": {},
   "outputs": [],
   "source": [
    "from nltk.corpus import stopwords \n",
    "from nltk.tokenize import word_tokenize \n",
    "stop_words = set(stopwords.words('english')) "
   ]
  },
  {
   "cell_type": "code",
   "execution_count": 51,
   "metadata": {},
   "outputs": [
    {
     "name": "stderr",
     "output_type": "stream",
     "text": [
      "C:\\Users\\sm185567\\AppData\\Local\\Continuum\\anaconda3\\lib\\site-packages\\IPython\\core\\interactiveshell.py:3058: DtypeWarning: Columns (15,16) have mixed types. Specify dtype option on import or set low_memory=False.\n",
      "  interactivity=interactivity, compiler=compiler, result=result)\n"
     ]
    }
   ],
   "source": [
    "toy_rev = pd.read_csv('csvfile.csv')\n",
    "toy_rev.head()\n",
    "\n",
    "toy_rev = toy_rev['Tweets'].to_frame()"
   ]
  },
  {
   "cell_type": "code",
   "execution_count": 52,
   "metadata": {},
   "outputs": [],
   "source": [
    "toy_rev = toy_rev.dropna().reset_index()"
   ]
  },
  {
   "cell_type": "code",
   "execution_count": 53,
   "metadata": {},
   "outputs": [],
   "source": [
    "toy_rev = toy_rev.drop(['index'],axis=1)"
   ]
  },
  {
   "cell_type": "code",
   "execution_count": 54,
   "metadata": {},
   "outputs": [],
   "source": [
    "def preprocess(text):\n",
    "    lines=text\n",
    "    lines = re.sub('[@#:;?\\.]', ' ',lines)\n",
    "    lines = re.sub('https.*', ' ',lines)\n",
    "    lines = re.sub('co.*', ' ',lines)\n",
    "    lines = re.sub('[0-9]', ' ',lines)\n",
    "    lines = lines.encode('ascii', 'ignore').decode('ascii')\n",
    "    return lines"
   ]
  },
  {
   "cell_type": "code",
   "execution_count": 55,
   "metadata": {},
   "outputs": [],
   "source": [
    "hi = toy_rev.Tweets.apply(lambda x: preprocess(x))"
   ]
  },
  {
   "cell_type": "code",
   "execution_count": 56,
   "metadata": {},
   "outputs": [],
   "source": [
    "hi = hi.to_frame()"
   ]
  },
  {
   "cell_type": "code",
   "execution_count": 57,
   "metadata": {},
   "outputs": [
    {
     "name": "stderr",
     "output_type": "stream",
     "text": [
      "100%|██████████████████████████████████████████████████████████████████████████| 78637/78637 [00:11<00:00, 6579.39it/s]\n"
     ]
    }
   ],
   "source": [
    "polarity_score=[]\n",
    "subjective_score=[]\n",
    "for x in tqdm(range(len(hi['Tweets']))):\n",
    "    analysis = TextBlob(hi['Tweets'][x]) \n",
    "    polarity_score.append(analysis.sentiment.polarity)\n",
    "    subjective_score.append(analysis.sentiment.subjectivity)"
   ]
  },
  {
   "cell_type": "code",
   "execution_count": 58,
   "metadata": {},
   "outputs": [],
   "source": [
    "series= pd.Series(polarity_score)\n",
    "series2 = pd.Series(subjective_score)"
   ]
  },
  {
   "cell_type": "code",
   "execution_count": 59,
   "metadata": {},
   "outputs": [],
   "source": [
    "df = pd.DataFrame({'tweets':hi['Tweets'],'sentiment_score':polarity_score,'subjective_score':series2})"
   ]
  },
  {
   "cell_type": "code",
   "execution_count": 60,
   "metadata": {},
   "outputs": [
    {
     "data": {
      "text/html": [
       "<div>\n",
       "<style scoped>\n",
       "    .dataframe tbody tr th:only-of-type {\n",
       "        vertical-align: middle;\n",
       "    }\n",
       "\n",
       "    .dataframe tbody tr th {\n",
       "        vertical-align: top;\n",
       "    }\n",
       "\n",
       "    .dataframe thead th {\n",
       "        text-align: right;\n",
       "    }\n",
       "</style>\n",
       "<table border=\"1\" class=\"dataframe\">\n",
       "  <thead>\n",
       "    <tr style=\"text-align: right;\">\n",
       "      <th></th>\n",
       "      <th>tweets</th>\n",
       "      <th>sentiment_score</th>\n",
       "      <th>subjective_score</th>\n",
       "    </tr>\n",
       "  </thead>\n",
       "  <tbody>\n",
       "    <tr>\n",
       "      <td>0</td>\n",
       "      <td>RT  sanket  It may sound somewhat seditious bu...</td>\n",
       "      <td>9.251859e-18</td>\n",
       "      <td>0.266667</td>\n",
       "    </tr>\n",
       "    <tr>\n",
       "      <td>1</td>\n",
       "      <td>Mirzapur  marathon happening in house</td>\n",
       "      <td>0.000000e+00</td>\n",
       "      <td>0.000000</td>\n",
       "    </tr>\n",
       "    <tr>\n",
       "      <td>2</td>\n",
       "      <td>This match was as disappointing as Mirzapur</td>\n",
       "      <td>-6.000000e-01</td>\n",
       "      <td>0.700000</td>\n",
       "    </tr>\n",
       "    <tr>\n",
       "      <td>3</td>\n",
       "      <td>Dream  IPL  MIvRR  Mirzapur</td>\n",
       "      <td>0.000000e+00</td>\n",
       "      <td>0.000000</td>\n",
       "    </tr>\n",
       "    <tr>\n",
       "      <td>4</td>\n",
       "      <td>When you miss your sales targets!  Mirzapur</td>\n",
       "      <td>0.000000e+00</td>\n",
       "      <td>0.000000</td>\n",
       "    </tr>\n",
       "    <tr>\n",
       "      <td>...</td>\n",
       "      <td>...</td>\n",
       "      <td>...</td>\n",
       "      <td>...</td>\n",
       "    </tr>\n",
       "    <tr>\n",
       "      <td>78632</td>\n",
       "      <td>Le barber --</td>\n",
       "      <td>0.000000e+00</td>\n",
       "      <td>0.000000</td>\n",
       "    </tr>\n",
       "    <tr>\n",
       "      <td>78633</td>\n",
       "      <td>Ft   Mirzapur</td>\n",
       "      <td>0.000000e+00</td>\n",
       "      <td>0.000000</td>\n",
       "    </tr>\n",
       "    <tr>\n",
       "      <td>78634</td>\n",
       "      <td>RT  SanDhirParShFC  Queen Slaying In Blue   Ha...</td>\n",
       "      <td>0.000000e+00</td>\n",
       "      <td>0.100000</td>\n",
       "    </tr>\n",
       "    <tr>\n",
       "      <td>78635</td>\n",
       "      <td>HarshitaGaur  mirzapurseason   Mirzapur</td>\n",
       "      <td>0.000000e+00</td>\n",
       "      <td>0.000000</td>\n",
       "    </tr>\n",
       "    <tr>\n",
       "      <td>78636</td>\n",
       "      <td>May the generous goddess Maa Durga brighten yo...</td>\n",
       "      <td>0.000000e+00</td>\n",
       "      <td>0.000000</td>\n",
       "    </tr>\n",
       "  </tbody>\n",
       "</table>\n",
       "<p>78637 rows × 3 columns</p>\n",
       "</div>"
      ],
      "text/plain": [
       "                                                  tweets  sentiment_score  \\\n",
       "0      RT  sanket  It may sound somewhat seditious bu...     9.251859e-18   \n",
       "1                Mirzapur  marathon happening in house       0.000000e+00   \n",
       "2         This match was as disappointing as Mirzapur       -6.000000e-01   \n",
       "3                           Dream  IPL  MIvRR  Mirzapur      0.000000e+00   \n",
       "4         When you miss your sales targets!  Mirzapur        0.000000e+00   \n",
       "...                                                  ...              ...   \n",
       "78632                                       Le barber --     0.000000e+00   \n",
       "78633                                   Ft   Mirzapur        0.000000e+00   \n",
       "78634  RT  SanDhirParShFC  Queen Slaying In Blue   Ha...     0.000000e+00   \n",
       "78635         HarshitaGaur  mirzapurseason   Mirzapur        0.000000e+00   \n",
       "78636  May the generous goddess Maa Durga brighten yo...     0.000000e+00   \n",
       "\n",
       "       subjective_score  \n",
       "0              0.266667  \n",
       "1              0.000000  \n",
       "2              0.700000  \n",
       "3              0.000000  \n",
       "4              0.000000  \n",
       "...                 ...  \n",
       "78632          0.000000  \n",
       "78633          0.000000  \n",
       "78634          0.100000  \n",
       "78635          0.000000  \n",
       "78636          0.000000  \n",
       "\n",
       "[78637 rows x 3 columns]"
      ]
     },
     "execution_count": 60,
     "metadata": {},
     "output_type": "execute_result"
    }
   ],
   "source": [
    "df"
   ]
  },
  {
   "cell_type": "code",
   "execution_count": 61,
   "metadata": {},
   "outputs": [],
   "source": [
    "df.loc[df.sentiment_score>0.0,'sentiment'] = 'Positive'"
   ]
  },
  {
   "cell_type": "code",
   "execution_count": 62,
   "metadata": {},
   "outputs": [],
   "source": [
    "df.loc[df.sentiment_score==0.0,'sentiment'] = 'Neutral'"
   ]
  },
  {
   "cell_type": "code",
   "execution_count": 63,
   "metadata": {},
   "outputs": [],
   "source": [
    "df.loc[df.sentiment_score<0.0,'sentiment'] = 'Negative'"
   ]
  },
  {
   "cell_type": "code",
   "execution_count": 64,
   "metadata": {},
   "outputs": [
    {
     "data": {
      "text/html": [
       "<div>\n",
       "<style scoped>\n",
       "    .dataframe tbody tr th:only-of-type {\n",
       "        vertical-align: middle;\n",
       "    }\n",
       "\n",
       "    .dataframe tbody tr th {\n",
       "        vertical-align: top;\n",
       "    }\n",
       "\n",
       "    .dataframe thead th {\n",
       "        text-align: right;\n",
       "    }\n",
       "</style>\n",
       "<table border=\"1\" class=\"dataframe\">\n",
       "  <thead>\n",
       "    <tr style=\"text-align: right;\">\n",
       "      <th></th>\n",
       "      <th>tweets</th>\n",
       "      <th>sentiment_score</th>\n",
       "      <th>subjective_score</th>\n",
       "      <th>sentiment</th>\n",
       "    </tr>\n",
       "  </thead>\n",
       "  <tbody>\n",
       "    <tr>\n",
       "      <td>0</td>\n",
       "      <td>RT  sanket  It may sound somewhat seditious bu...</td>\n",
       "      <td>9.251859e-18</td>\n",
       "      <td>0.266667</td>\n",
       "      <td>Positive</td>\n",
       "    </tr>\n",
       "    <tr>\n",
       "      <td>1</td>\n",
       "      <td>Mirzapur  marathon happening in house</td>\n",
       "      <td>0.000000e+00</td>\n",
       "      <td>0.000000</td>\n",
       "      <td>Neutral</td>\n",
       "    </tr>\n",
       "    <tr>\n",
       "      <td>2</td>\n",
       "      <td>This match was as disappointing as Mirzapur</td>\n",
       "      <td>-6.000000e-01</td>\n",
       "      <td>0.700000</td>\n",
       "      <td>Negative</td>\n",
       "    </tr>\n",
       "    <tr>\n",
       "      <td>3</td>\n",
       "      <td>Dream  IPL  MIvRR  Mirzapur</td>\n",
       "      <td>0.000000e+00</td>\n",
       "      <td>0.000000</td>\n",
       "      <td>Neutral</td>\n",
       "    </tr>\n",
       "    <tr>\n",
       "      <td>4</td>\n",
       "      <td>When you miss your sales targets!  Mirzapur</td>\n",
       "      <td>0.000000e+00</td>\n",
       "      <td>0.000000</td>\n",
       "      <td>Neutral</td>\n",
       "    </tr>\n",
       "    <tr>\n",
       "      <td>...</td>\n",
       "      <td>...</td>\n",
       "      <td>...</td>\n",
       "      <td>...</td>\n",
       "      <td>...</td>\n",
       "    </tr>\n",
       "    <tr>\n",
       "      <td>78632</td>\n",
       "      <td>Le barber --</td>\n",
       "      <td>0.000000e+00</td>\n",
       "      <td>0.000000</td>\n",
       "      <td>Neutral</td>\n",
       "    </tr>\n",
       "    <tr>\n",
       "      <td>78633</td>\n",
       "      <td>Ft   Mirzapur</td>\n",
       "      <td>0.000000e+00</td>\n",
       "      <td>0.000000</td>\n",
       "      <td>Neutral</td>\n",
       "    </tr>\n",
       "    <tr>\n",
       "      <td>78634</td>\n",
       "      <td>RT  SanDhirParShFC  Queen Slaying In Blue   Ha...</td>\n",
       "      <td>0.000000e+00</td>\n",
       "      <td>0.100000</td>\n",
       "      <td>Neutral</td>\n",
       "    </tr>\n",
       "    <tr>\n",
       "      <td>78635</td>\n",
       "      <td>HarshitaGaur  mirzapurseason   Mirzapur</td>\n",
       "      <td>0.000000e+00</td>\n",
       "      <td>0.000000</td>\n",
       "      <td>Neutral</td>\n",
       "    </tr>\n",
       "    <tr>\n",
       "      <td>78636</td>\n",
       "      <td>May the generous goddess Maa Durga brighten yo...</td>\n",
       "      <td>0.000000e+00</td>\n",
       "      <td>0.000000</td>\n",
       "      <td>Neutral</td>\n",
       "    </tr>\n",
       "  </tbody>\n",
       "</table>\n",
       "<p>78637 rows × 4 columns</p>\n",
       "</div>"
      ],
      "text/plain": [
       "                                                  tweets  sentiment_score  \\\n",
       "0      RT  sanket  It may sound somewhat seditious bu...     9.251859e-18   \n",
       "1                Mirzapur  marathon happening in house       0.000000e+00   \n",
       "2         This match was as disappointing as Mirzapur       -6.000000e-01   \n",
       "3                           Dream  IPL  MIvRR  Mirzapur      0.000000e+00   \n",
       "4         When you miss your sales targets!  Mirzapur        0.000000e+00   \n",
       "...                                                  ...              ...   \n",
       "78632                                       Le barber --     0.000000e+00   \n",
       "78633                                   Ft   Mirzapur        0.000000e+00   \n",
       "78634  RT  SanDhirParShFC  Queen Slaying In Blue   Ha...     0.000000e+00   \n",
       "78635         HarshitaGaur  mirzapurseason   Mirzapur        0.000000e+00   \n",
       "78636  May the generous goddess Maa Durga brighten yo...     0.000000e+00   \n",
       "\n",
       "       subjective_score sentiment  \n",
       "0              0.266667  Positive  \n",
       "1              0.000000   Neutral  \n",
       "2              0.700000  Negative  \n",
       "3              0.000000   Neutral  \n",
       "4              0.000000   Neutral  \n",
       "...                 ...       ...  \n",
       "78632          0.000000   Neutral  \n",
       "78633          0.000000   Neutral  \n",
       "78634          0.100000   Neutral  \n",
       "78635          0.000000   Neutral  \n",
       "78636          0.000000   Neutral  \n",
       "\n",
       "[78637 rows x 4 columns]"
      ]
     },
     "execution_count": 64,
     "metadata": {},
     "output_type": "execute_result"
    }
   ],
   "source": [
    "df"
   ]
  },
  {
   "cell_type": "code",
   "execution_count": 65,
   "metadata": {},
   "outputs": [],
   "source": [
    "df.to_csv('textblob.csv')"
   ]
  },
  {
   "cell_type": "code",
   "execution_count": null,
   "metadata": {},
   "outputs": [],
   "source": []
  }
 ],
 "metadata": {
  "kernelspec": {
   "display_name": "Python 3.7.4 64-bit ('base': conda)",
   "language": "python",
   "name": "python37464bitbasecondaea93298ad34b4164b12094db0c35890f"
  },
  "language_info": {
   "codemirror_mode": {
    "name": "ipython",
    "version": 3
   },
   "file_extension": ".py",
   "mimetype": "text/x-python",
   "name": "python",
   "nbconvert_exporter": "python",
   "pygments_lexer": "ipython3",
   "version": "3.7.4"
  }
 },
 "nbformat": 4,
 "nbformat_minor": 4
}
